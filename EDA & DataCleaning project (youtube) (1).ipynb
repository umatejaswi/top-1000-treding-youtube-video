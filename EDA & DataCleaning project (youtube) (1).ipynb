{
 "cells": [
  {
   "cell_type": "markdown",
   "id": "66375113-ccd7-4576-b900-a90893486c4f",
   "metadata": {},
   "source": [
    "# About Dataset\n",
    "# Description\n",
    "\n",
    "* This Dataset contains details of the Top 1000 most trending YouTube channels as of 18th April 2025.\n",
    "\n",
    "* Attribute Information\n",
    "\n",
    "* Rank: The rank of the videos.\n",
    "* Video: Name of the Video.\n",
    "* Video Views: No of views for the videos.\n",
    "* Like: No of likes\n",
    "* Dislike: No of dislikes\n",
    "* Category: Category of the videos.\n",
    "* Published: Published year"
   ]
  },
  {
   "cell_type": "markdown",
   "id": "c78b7d17-9ea3-43a0-8085-5c504fdbdbfc",
   "metadata": {},
   "source": [
    "# EDA (Exploratory Data Analysis) & Data Cleaning\n",
    "## Major EDA Operation\n",
    "1. Understanding the Dataset\n",
    "2. Indexing & filtering\n",
    "3. Satistical analysis of dataset\n",
    "4. Identify NaN/Null values\n",
    "5. Identify Duplication values\n",
    "6. Identify the Outliers\n",
    "## Major Data Cleaning operations\n",
    "1.Fixing Data inconsistencies\n",
    "\n",
    "2.Cleaning NaN/Null values\n",
    "\n",
    "3. Deleting Duplicate values\n",
    "\n",
    "4. Trimming outlier"
   ]
  },
  {
   "cell_type": "code",
   "execution_count": 2,
   "id": "27e5551a-3611-4265-b7f1-e92d981c4cdd",
   "metadata": {},
   "outputs": [],
   "source": [
    "import pandas as pd \n",
    "import numpy as np \n",
    "import seaborn as sns\n",
    "import matplotlib.pyplot as plt "
   ]
  },
  {
   "cell_type": "code",
   "execution_count": 3,
   "id": "fad0a08b-954a-4dd1-bed0-1b0f86000fd2",
   "metadata": {},
   "outputs": [],
   "source": [
    "df = pd.read_csv('top-1000-trending-youtube-videos.csv')"
   ]
  },
  {
   "cell_type": "code",
   "execution_count": 4,
   "id": "b28425dd-bf91-425e-b24b-203678c64d25",
   "metadata": {},
   "outputs": [
    {
     "data": {
      "text/html": [
       "<div>\n",
       "<style scoped>\n",
       "    .dataframe tbody tr th:only-of-type {\n",
       "        vertical-align: middle;\n",
       "    }\n",
       "\n",
       "    .dataframe tbody tr th {\n",
       "        vertical-align: top;\n",
       "    }\n",
       "\n",
       "    .dataframe thead th {\n",
       "        text-align: right;\n",
       "    }\n",
       "</style>\n",
       "<table border=\"1\" class=\"dataframe\">\n",
       "  <thead>\n",
       "    <tr style=\"text-align: right;\">\n",
       "      <th></th>\n",
       "      <th>rank</th>\n",
       "      <th>Video</th>\n",
       "      <th>Video views</th>\n",
       "      <th>Likes</th>\n",
       "      <th>Dislikes</th>\n",
       "      <th>Category</th>\n",
       "      <th>published</th>\n",
       "    </tr>\n",
       "  </thead>\n",
       "  <tbody>\n",
       "    <tr>\n",
       "      <th>0</th>\n",
       "      <td>1</td>\n",
       "      <td>20 Tennis shots if they were not filmed, NOBOD...</td>\n",
       "      <td>3,471,237</td>\n",
       "      <td>19,023</td>\n",
       "      <td>859</td>\n",
       "      <td>NaN</td>\n",
       "      <td>2017</td>\n",
       "    </tr>\n",
       "    <tr>\n",
       "      <th>1</th>\n",
       "      <td>2</td>\n",
       "      <td>Lil Nas X - Old Town Road (Official Movie) ft....</td>\n",
       "      <td>54,071,677</td>\n",
       "      <td>3,497,955</td>\n",
       "      <td>78,799</td>\n",
       "      <td>Music</td>\n",
       "      <td>2019</td>\n",
       "    </tr>\n",
       "    <tr>\n",
       "      <th>2</th>\n",
       "      <td>3</td>\n",
       "      <td>JoJo Siwa - Karma (Official Video)</td>\n",
       "      <td>34,206,747</td>\n",
       "      <td>293,563</td>\n",
       "      <td>NaN</td>\n",
       "      <td>Music</td>\n",
       "      <td>2024</td>\n",
       "    </tr>\n",
       "    <tr>\n",
       "      <th>3</th>\n",
       "      <td>4</td>\n",
       "      <td>Wiz Khalifa - See You Again ft. Charlie Puth [...</td>\n",
       "      <td>6,643,904,918</td>\n",
       "      <td>44,861,602</td>\n",
       "      <td>NaN</td>\n",
       "      <td>Music</td>\n",
       "      <td>2015</td>\n",
       "    </tr>\n",
       "    <tr>\n",
       "      <th>4</th>\n",
       "      <td>5</td>\n",
       "      <td>伊賀の天然水強炭酸水「家族で、シュワシェア。」篇　15秒</td>\n",
       "      <td>236,085,971</td>\n",
       "      <td>38</td>\n",
       "      <td>NaN</td>\n",
       "      <td>NaN</td>\n",
       "      <td>2021</td>\n",
       "    </tr>\n",
       "    <tr>\n",
       "      <th>...</th>\n",
       "      <td>...</td>\n",
       "      <td>...</td>\n",
       "      <td>...</td>\n",
       "      <td>...</td>\n",
       "      <td>...</td>\n",
       "      <td>...</td>\n",
       "      <td>...</td>\n",
       "    </tr>\n",
       "    <tr>\n",
       "      <th>995</th>\n",
       "      <td>996</td>\n",
       "      <td>CALIFORNIA - MONDAY JUSTICE FEAT. SNOOP DOGG (...</td>\n",
       "      <td>943,248</td>\n",
       "      <td>2,949</td>\n",
       "      <td>22</td>\n",
       "      <td>Music</td>\n",
       "      <td>2017</td>\n",
       "    </tr>\n",
       "    <tr>\n",
       "      <th>996</th>\n",
       "      <td>997</td>\n",
       "      <td>John McEnroe's most famous outburst happened i...</td>\n",
       "      <td>4,853,621</td>\n",
       "      <td>7,254</td>\n",
       "      <td>426</td>\n",
       "      <td>Sports</td>\n",
       "      <td>2010</td>\n",
       "    </tr>\n",
       "    <tr>\n",
       "      <th>997</th>\n",
       "      <td>998</td>\n",
       "      <td>Adi Golan's Group - Teaser</td>\n",
       "      <td>56,578</td>\n",
       "      <td>NaN</td>\n",
       "      <td>NaN</td>\n",
       "      <td>Music</td>\n",
       "      <td>2014</td>\n",
       "    </tr>\n",
       "    <tr>\n",
       "      <th>998</th>\n",
       "      <td>999</td>\n",
       "      <td>Keg tapping goes horribly wrong.</td>\n",
       "      <td>751,804</td>\n",
       "      <td>3,427</td>\n",
       "      <td>313</td>\n",
       "      <td>Entertainment</td>\n",
       "      <td>2017</td>\n",
       "    </tr>\n",
       "    <tr>\n",
       "      <th>999</th>\n",
       "      <td>1000</td>\n",
       "      <td>LIVE Hurricane Irma - Downtown Orlando - Ameri...</td>\n",
       "      <td>554,438</td>\n",
       "      <td>184</td>\n",
       "      <td>8</td>\n",
       "      <td>News &amp; Politics</td>\n",
       "      <td>2016</td>\n",
       "    </tr>\n",
       "  </tbody>\n",
       "</table>\n",
       "<p>1000 rows × 7 columns</p>\n",
       "</div>"
      ],
      "text/plain": [
       "     rank                                              Video    Video views  \\\n",
       "0       1  20 Tennis shots if they were not filmed, NOBOD...      3,471,237   \n",
       "1       2  Lil Nas X - Old Town Road (Official Movie) ft....     54,071,677   \n",
       "2       3                 JoJo Siwa - Karma (Official Video)     34,206,747   \n",
       "3       4  Wiz Khalifa - See You Again ft. Charlie Puth [...  6,643,904,918   \n",
       "4       5                       伊賀の天然水強炭酸水「家族で、シュワシェア。」篇　15秒    236,085,971   \n",
       "..    ...                                                ...            ...   \n",
       "995   996  CALIFORNIA - MONDAY JUSTICE FEAT. SNOOP DOGG (...        943,248   \n",
       "996   997  John McEnroe's most famous outburst happened i...      4,853,621   \n",
       "997   998                         Adi Golan's Group - Teaser         56,578   \n",
       "998   999                   Keg tapping goes horribly wrong.        751,804   \n",
       "999  1000  LIVE Hurricane Irma - Downtown Orlando - Ameri...        554,438   \n",
       "\n",
       "          Likes Dislikes         Category  published  \n",
       "0        19,023      859              NaN       2017  \n",
       "1     3,497,955   78,799            Music       2019  \n",
       "2       293,563      NaN            Music       2024  \n",
       "3    44,861,602      NaN            Music       2015  \n",
       "4            38      NaN              NaN       2021  \n",
       "..          ...      ...              ...        ...  \n",
       "995       2,949       22            Music       2017  \n",
       "996       7,254      426           Sports       2010  \n",
       "997         NaN      NaN            Music       2014  \n",
       "998       3,427      313    Entertainment       2017  \n",
       "999         184        8  News & Politics       2016  \n",
       "\n",
       "[1000 rows x 7 columns]"
      ]
     },
     "execution_count": 4,
     "metadata": {},
     "output_type": "execute_result"
    }
   ],
   "source": [
    "df"
   ]
  },
  {
   "cell_type": "markdown",
   "id": "1d042c76-610c-46bc-836f-9888554b7d27",
   "metadata": {},
   "source": [
    "# EDA-1 Understanding The Dataset\n"
   ]
  },
  {
   "cell_type": "code",
   "execution_count": 5,
   "id": "42537eba-772c-44ba-b494-2bb09c31e9df",
   "metadata": {},
   "outputs": [
    {
     "data": {
      "text/html": [
       "<div>\n",
       "<style scoped>\n",
       "    .dataframe tbody tr th:only-of-type {\n",
       "        vertical-align: middle;\n",
       "    }\n",
       "\n",
       "    .dataframe tbody tr th {\n",
       "        vertical-align: top;\n",
       "    }\n",
       "\n",
       "    .dataframe thead th {\n",
       "        text-align: right;\n",
       "    }\n",
       "</style>\n",
       "<table border=\"1\" class=\"dataframe\">\n",
       "  <thead>\n",
       "    <tr style=\"text-align: right;\">\n",
       "      <th></th>\n",
       "      <th>rank</th>\n",
       "      <th>Video</th>\n",
       "      <th>Video views</th>\n",
       "      <th>Likes</th>\n",
       "      <th>Dislikes</th>\n",
       "      <th>Category</th>\n",
       "      <th>published</th>\n",
       "    </tr>\n",
       "  </thead>\n",
       "  <tbody>\n",
       "    <tr>\n",
       "      <th>0</th>\n",
       "      <td>1</td>\n",
       "      <td>20 Tennis shots if they were not filmed, NOBOD...</td>\n",
       "      <td>3,471,237</td>\n",
       "      <td>19,023</td>\n",
       "      <td>859</td>\n",
       "      <td>NaN</td>\n",
       "      <td>2017</td>\n",
       "    </tr>\n",
       "    <tr>\n",
       "      <th>1</th>\n",
       "      <td>2</td>\n",
       "      <td>Lil Nas X - Old Town Road (Official Movie) ft....</td>\n",
       "      <td>54,071,677</td>\n",
       "      <td>3,497,955</td>\n",
       "      <td>78,799</td>\n",
       "      <td>Music</td>\n",
       "      <td>2019</td>\n",
       "    </tr>\n",
       "    <tr>\n",
       "      <th>2</th>\n",
       "      <td>3</td>\n",
       "      <td>JoJo Siwa - Karma (Official Video)</td>\n",
       "      <td>34,206,747</td>\n",
       "      <td>293,563</td>\n",
       "      <td>NaN</td>\n",
       "      <td>Music</td>\n",
       "      <td>2024</td>\n",
       "    </tr>\n",
       "    <tr>\n",
       "      <th>3</th>\n",
       "      <td>4</td>\n",
       "      <td>Wiz Khalifa - See You Again ft. Charlie Puth [...</td>\n",
       "      <td>6,643,904,918</td>\n",
       "      <td>44,861,602</td>\n",
       "      <td>NaN</td>\n",
       "      <td>Music</td>\n",
       "      <td>2015</td>\n",
       "    </tr>\n",
       "    <tr>\n",
       "      <th>4</th>\n",
       "      <td>5</td>\n",
       "      <td>伊賀の天然水強炭酸水「家族で、シュワシェア。」篇　15秒</td>\n",
       "      <td>236,085,971</td>\n",
       "      <td>38</td>\n",
       "      <td>NaN</td>\n",
       "      <td>NaN</td>\n",
       "      <td>2021</td>\n",
       "    </tr>\n",
       "  </tbody>\n",
       "</table>\n",
       "</div>"
      ],
      "text/plain": [
       "   rank                                              Video    Video views  \\\n",
       "0     1  20 Tennis shots if they were not filmed, NOBOD...      3,471,237   \n",
       "1     2  Lil Nas X - Old Town Road (Official Movie) ft....     54,071,677   \n",
       "2     3                 JoJo Siwa - Karma (Official Video)     34,206,747   \n",
       "3     4  Wiz Khalifa - See You Again ft. Charlie Puth [...  6,643,904,918   \n",
       "4     5                       伊賀の天然水強炭酸水「家族で、シュワシェア。」篇　15秒    236,085,971   \n",
       "\n",
       "        Likes Dislikes Category  published  \n",
       "0      19,023      859      NaN       2017  \n",
       "1   3,497,955   78,799    Music       2019  \n",
       "2     293,563      NaN    Music       2024  \n",
       "3  44,861,602      NaN    Music       2015  \n",
       "4          38      NaN      NaN       2021  "
      ]
     },
     "execution_count": 5,
     "metadata": {},
     "output_type": "execute_result"
    }
   ],
   "source": [
    "df.head(5)"
   ]
  },
  {
   "cell_type": "code",
   "execution_count": 6,
   "id": "ed1757d9-88b5-45b8-822c-412912a81d75",
   "metadata": {},
   "outputs": [
    {
     "data": {
      "text/html": [
       "<div>\n",
       "<style scoped>\n",
       "    .dataframe tbody tr th:only-of-type {\n",
       "        vertical-align: middle;\n",
       "    }\n",
       "\n",
       "    .dataframe tbody tr th {\n",
       "        vertical-align: top;\n",
       "    }\n",
       "\n",
       "    .dataframe thead th {\n",
       "        text-align: right;\n",
       "    }\n",
       "</style>\n",
       "<table border=\"1\" class=\"dataframe\">\n",
       "  <thead>\n",
       "    <tr style=\"text-align: right;\">\n",
       "      <th></th>\n",
       "      <th>rank</th>\n",
       "      <th>Video</th>\n",
       "      <th>Video views</th>\n",
       "      <th>Likes</th>\n",
       "      <th>Dislikes</th>\n",
       "      <th>Category</th>\n",
       "      <th>published</th>\n",
       "    </tr>\n",
       "  </thead>\n",
       "  <tbody>\n",
       "    <tr>\n",
       "      <th>995</th>\n",
       "      <td>996</td>\n",
       "      <td>CALIFORNIA - MONDAY JUSTICE FEAT. SNOOP DOGG (...</td>\n",
       "      <td>943,248</td>\n",
       "      <td>2,949</td>\n",
       "      <td>22</td>\n",
       "      <td>Music</td>\n",
       "      <td>2017</td>\n",
       "    </tr>\n",
       "    <tr>\n",
       "      <th>996</th>\n",
       "      <td>997</td>\n",
       "      <td>John McEnroe's most famous outburst happened i...</td>\n",
       "      <td>4,853,621</td>\n",
       "      <td>7,254</td>\n",
       "      <td>426</td>\n",
       "      <td>Sports</td>\n",
       "      <td>2010</td>\n",
       "    </tr>\n",
       "    <tr>\n",
       "      <th>997</th>\n",
       "      <td>998</td>\n",
       "      <td>Adi Golan's Group - Teaser</td>\n",
       "      <td>56,578</td>\n",
       "      <td>NaN</td>\n",
       "      <td>NaN</td>\n",
       "      <td>Music</td>\n",
       "      <td>2014</td>\n",
       "    </tr>\n",
       "    <tr>\n",
       "      <th>998</th>\n",
       "      <td>999</td>\n",
       "      <td>Keg tapping goes horribly wrong.</td>\n",
       "      <td>751,804</td>\n",
       "      <td>3,427</td>\n",
       "      <td>313</td>\n",
       "      <td>Entertainment</td>\n",
       "      <td>2017</td>\n",
       "    </tr>\n",
       "    <tr>\n",
       "      <th>999</th>\n",
       "      <td>1000</td>\n",
       "      <td>LIVE Hurricane Irma - Downtown Orlando - Ameri...</td>\n",
       "      <td>554,438</td>\n",
       "      <td>184</td>\n",
       "      <td>8</td>\n",
       "      <td>News &amp; Politics</td>\n",
       "      <td>2016</td>\n",
       "    </tr>\n",
       "  </tbody>\n",
       "</table>\n",
       "</div>"
      ],
      "text/plain": [
       "     rank                                              Video Video views  \\\n",
       "995   996  CALIFORNIA - MONDAY JUSTICE FEAT. SNOOP DOGG (...     943,248   \n",
       "996   997  John McEnroe's most famous outburst happened i...   4,853,621   \n",
       "997   998                         Adi Golan's Group - Teaser      56,578   \n",
       "998   999                   Keg tapping goes horribly wrong.     751,804   \n",
       "999  1000  LIVE Hurricane Irma - Downtown Orlando - Ameri...     554,438   \n",
       "\n",
       "     Likes Dislikes         Category  published  \n",
       "995  2,949       22            Music       2017  \n",
       "996  7,254      426           Sports       2010  \n",
       "997    NaN      NaN            Music       2014  \n",
       "998  3,427      313    Entertainment       2017  \n",
       "999    184        8  News & Politics       2016  "
      ]
     },
     "execution_count": 6,
     "metadata": {},
     "output_type": "execute_result"
    }
   ],
   "source": [
    "df.tail(5)"
   ]
  },
  {
   "cell_type": "code",
   "execution_count": 7,
   "id": "03070592-d2e6-4af9-8e6f-d12b9f4cb251",
   "metadata": {},
   "outputs": [
    {
     "data": {
      "text/html": [
       "<div>\n",
       "<style scoped>\n",
       "    .dataframe tbody tr th:only-of-type {\n",
       "        vertical-align: middle;\n",
       "    }\n",
       "\n",
       "    .dataframe tbody tr th {\n",
       "        vertical-align: top;\n",
       "    }\n",
       "\n",
       "    .dataframe thead th {\n",
       "        text-align: right;\n",
       "    }\n",
       "</style>\n",
       "<table border=\"1\" class=\"dataframe\">\n",
       "  <thead>\n",
       "    <tr style=\"text-align: right;\">\n",
       "      <th></th>\n",
       "      <th>rank</th>\n",
       "      <th>Video</th>\n",
       "      <th>Video views</th>\n",
       "      <th>Likes</th>\n",
       "      <th>Dislikes</th>\n",
       "      <th>Category</th>\n",
       "      <th>published</th>\n",
       "    </tr>\n",
       "  </thead>\n",
       "  <tbody>\n",
       "    <tr>\n",
       "      <th>684</th>\n",
       "      <td>685</td>\n",
       "      <td>Rocky Balmoto</td>\n",
       "      <td>2,218,572</td>\n",
       "      <td>10,869</td>\n",
       "      <td>1,626</td>\n",
       "      <td>People &amp; Blogs</td>\n",
       "      <td>2016</td>\n",
       "    </tr>\n",
       "    <tr>\n",
       "      <th>487</th>\n",
       "      <td>488</td>\n",
       "      <td>Meet Will</td>\n",
       "      <td>3,121,597</td>\n",
       "      <td>40,432</td>\n",
       "      <td>313</td>\n",
       "      <td>Comedy</td>\n",
       "      <td>2018</td>\n",
       "    </tr>\n",
       "    <tr>\n",
       "      <th>248</th>\n",
       "      <td>249</td>\n",
       "      <td>Breast Flexing</td>\n",
       "      <td>4,119,405</td>\n",
       "      <td>1,819</td>\n",
       "      <td>215</td>\n",
       "      <td>Entertainment</td>\n",
       "      <td>2007</td>\n",
       "    </tr>\n",
       "    <tr>\n",
       "      <th>477</th>\n",
       "      <td>478</td>\n",
       "      <td>Najlepszego Polsko!</td>\n",
       "      <td>1,465,545</td>\n",
       "      <td>85</td>\n",
       "      <td>44</td>\n",
       "      <td>NaN</td>\n",
       "      <td>2018</td>\n",
       "    </tr>\n",
       "    <tr>\n",
       "      <th>343</th>\n",
       "      <td>344</td>\n",
       "      <td>Proposal In Disney World With A Surprise Ending</td>\n",
       "      <td>3,379,064</td>\n",
       "      <td>3,034</td>\n",
       "      <td>149</td>\n",
       "      <td>Entertainment</td>\n",
       "      <td>2012</td>\n",
       "    </tr>\n",
       "  </tbody>\n",
       "</table>\n",
       "</div>"
      ],
      "text/plain": [
       "     rank                                            Video Video views  \\\n",
       "684   685                                    Rocky Balmoto   2,218,572   \n",
       "487   488                                        Meet Will   3,121,597   \n",
       "248   249                                   Breast Flexing   4,119,405   \n",
       "477   478                              Najlepszego Polsko!   1,465,545   \n",
       "343   344  Proposal In Disney World With A Surprise Ending   3,379,064   \n",
       "\n",
       "      Likes Dislikes        Category  published  \n",
       "684  10,869    1,626  People & Blogs       2016  \n",
       "487  40,432      313          Comedy       2018  \n",
       "248   1,819      215   Entertainment       2007  \n",
       "477      85       44             NaN       2018  \n",
       "343   3,034      149   Entertainment       2012  "
      ]
     },
     "execution_count": 7,
     "metadata": {},
     "output_type": "execute_result"
    }
   ],
   "source": [
    "df.sample(5)"
   ]
  },
  {
   "cell_type": "code",
   "execution_count": 8,
   "id": "87170644-28dc-41dd-9a2a-8f647e779f79",
   "metadata": {},
   "outputs": [
    {
     "data": {
      "text/html": [
       "<div>\n",
       "<style scoped>\n",
       "    .dataframe tbody tr th:only-of-type {\n",
       "        vertical-align: middle;\n",
       "    }\n",
       "\n",
       "    .dataframe tbody tr th {\n",
       "        vertical-align: top;\n",
       "    }\n",
       "\n",
       "    .dataframe thead th {\n",
       "        text-align: right;\n",
       "    }\n",
       "</style>\n",
       "<table border=\"1\" class=\"dataframe\">\n",
       "  <thead>\n",
       "    <tr style=\"text-align: right;\">\n",
       "      <th></th>\n",
       "      <th>rank</th>\n",
       "      <th>Video</th>\n",
       "      <th>Video views</th>\n",
       "      <th>Likes</th>\n",
       "      <th>Dislikes</th>\n",
       "      <th>Category</th>\n",
       "      <th>published</th>\n",
       "    </tr>\n",
       "  </thead>\n",
       "  <tbody>\n",
       "    <tr>\n",
       "      <th>0</th>\n",
       "      <td>1</td>\n",
       "      <td>20 Tennis shots if they were not filmed, NOBOD...</td>\n",
       "      <td>3,471,237</td>\n",
       "      <td>19,023</td>\n",
       "      <td>859</td>\n",
       "      <td>NaN</td>\n",
       "      <td>2017</td>\n",
       "    </tr>\n",
       "    <tr>\n",
       "      <th>1</th>\n",
       "      <td>2</td>\n",
       "      <td>Lil Nas X - Old Town Road (Official Movie) ft....</td>\n",
       "      <td>54,071,677</td>\n",
       "      <td>3,497,955</td>\n",
       "      <td>78,799</td>\n",
       "      <td>Music</td>\n",
       "      <td>2019</td>\n",
       "    </tr>\n",
       "    <tr>\n",
       "      <th>2</th>\n",
       "      <td>3</td>\n",
       "      <td>JoJo Siwa - Karma (Official Video)</td>\n",
       "      <td>34,206,747</td>\n",
       "      <td>293,563</td>\n",
       "      <td>NaN</td>\n",
       "      <td>Music</td>\n",
       "      <td>2024</td>\n",
       "    </tr>\n",
       "    <tr>\n",
       "      <th>3</th>\n",
       "      <td>4</td>\n",
       "      <td>Wiz Khalifa - See You Again ft. Charlie Puth [...</td>\n",
       "      <td>6,643,904,918</td>\n",
       "      <td>44,861,602</td>\n",
       "      <td>NaN</td>\n",
       "      <td>Music</td>\n",
       "      <td>2015</td>\n",
       "    </tr>\n",
       "    <tr>\n",
       "      <th>4</th>\n",
       "      <td>5</td>\n",
       "      <td>伊賀の天然水強炭酸水「家族で、シュワシェア。」篇　15秒</td>\n",
       "      <td>236,085,971</td>\n",
       "      <td>38</td>\n",
       "      <td>NaN</td>\n",
       "      <td>NaN</td>\n",
       "      <td>2021</td>\n",
       "    </tr>\n",
       "    <tr>\n",
       "      <th>...</th>\n",
       "      <td>...</td>\n",
       "      <td>...</td>\n",
       "      <td>...</td>\n",
       "      <td>...</td>\n",
       "      <td>...</td>\n",
       "      <td>...</td>\n",
       "      <td>...</td>\n",
       "    </tr>\n",
       "    <tr>\n",
       "      <th>995</th>\n",
       "      <td>996</td>\n",
       "      <td>CALIFORNIA - MONDAY JUSTICE FEAT. SNOOP DOGG (...</td>\n",
       "      <td>943,248</td>\n",
       "      <td>2,949</td>\n",
       "      <td>22</td>\n",
       "      <td>Music</td>\n",
       "      <td>2017</td>\n",
       "    </tr>\n",
       "    <tr>\n",
       "      <th>996</th>\n",
       "      <td>997</td>\n",
       "      <td>John McEnroe's most famous outburst happened i...</td>\n",
       "      <td>4,853,621</td>\n",
       "      <td>7,254</td>\n",
       "      <td>426</td>\n",
       "      <td>Sports</td>\n",
       "      <td>2010</td>\n",
       "    </tr>\n",
       "    <tr>\n",
       "      <th>997</th>\n",
       "      <td>998</td>\n",
       "      <td>Adi Golan's Group - Teaser</td>\n",
       "      <td>56,578</td>\n",
       "      <td>NaN</td>\n",
       "      <td>NaN</td>\n",
       "      <td>Music</td>\n",
       "      <td>2014</td>\n",
       "    </tr>\n",
       "    <tr>\n",
       "      <th>998</th>\n",
       "      <td>999</td>\n",
       "      <td>Keg tapping goes horribly wrong.</td>\n",
       "      <td>751,804</td>\n",
       "      <td>3,427</td>\n",
       "      <td>313</td>\n",
       "      <td>Entertainment</td>\n",
       "      <td>2017</td>\n",
       "    </tr>\n",
       "    <tr>\n",
       "      <th>999</th>\n",
       "      <td>1000</td>\n",
       "      <td>LIVE Hurricane Irma - Downtown Orlando - Ameri...</td>\n",
       "      <td>554,438</td>\n",
       "      <td>184</td>\n",
       "      <td>8</td>\n",
       "      <td>News &amp; Politics</td>\n",
       "      <td>2016</td>\n",
       "    </tr>\n",
       "  </tbody>\n",
       "</table>\n",
       "<p>1000 rows × 7 columns</p>\n",
       "</div>"
      ],
      "text/plain": [
       "     rank                                              Video    Video views  \\\n",
       "0       1  20 Tennis shots if they were not filmed, NOBOD...      3,471,237   \n",
       "1       2  Lil Nas X - Old Town Road (Official Movie) ft....     54,071,677   \n",
       "2       3                 JoJo Siwa - Karma (Official Video)     34,206,747   \n",
       "3       4  Wiz Khalifa - See You Again ft. Charlie Puth [...  6,643,904,918   \n",
       "4       5                       伊賀の天然水強炭酸水「家族で、シュワシェア。」篇　15秒    236,085,971   \n",
       "..    ...                                                ...            ...   \n",
       "995   996  CALIFORNIA - MONDAY JUSTICE FEAT. SNOOP DOGG (...        943,248   \n",
       "996   997  John McEnroe's most famous outburst happened i...      4,853,621   \n",
       "997   998                         Adi Golan's Group - Teaser         56,578   \n",
       "998   999                   Keg tapping goes horribly wrong.        751,804   \n",
       "999  1000  LIVE Hurricane Irma - Downtown Orlando - Ameri...        554,438   \n",
       "\n",
       "          Likes Dislikes         Category  published  \n",
       "0        19,023      859              NaN       2017  \n",
       "1     3,497,955   78,799            Music       2019  \n",
       "2       293,563      NaN            Music       2024  \n",
       "3    44,861,602      NaN            Music       2015  \n",
       "4            38      NaN              NaN       2021  \n",
       "..          ...      ...              ...        ...  \n",
       "995       2,949       22            Music       2017  \n",
       "996       7,254      426           Sports       2010  \n",
       "997         NaN      NaN            Music       2014  \n",
       "998       3,427      313    Entertainment       2017  \n",
       "999         184        8  News & Politics       2016  \n",
       "\n",
       "[1000 rows x 7 columns]"
      ]
     },
     "execution_count": 8,
     "metadata": {},
     "output_type": "execute_result"
    }
   ],
   "source": [
    "df"
   ]
  },
  {
   "cell_type": "code",
   "execution_count": 9,
   "id": "01125ad6-e0af-414a-8931-77d4f4d3b96d",
   "metadata": {},
   "outputs": [
    {
     "data": {
      "text/plain": [
       "Index(['Video', 'Video views', 'Likes', 'Dislikes', 'Category'], dtype='object')"
      ]
     },
     "execution_count": 9,
     "metadata": {},
     "output_type": "execute_result"
    }
   ],
   "source": [
    "df.select_dtypes(include = 'object').columns"
   ]
  },
  {
   "cell_type": "code",
   "execution_count": 10,
   "id": "8fb3b886-8ffc-41c9-8de8-62df4d472c7d",
   "metadata": {},
   "outputs": [
    {
     "data": {
      "text/plain": [
       "Index(['rank', 'published'], dtype='object')"
      ]
     },
     "execution_count": 10,
     "metadata": {},
     "output_type": "execute_result"
    }
   ],
   "source": [
    "df.select_dtypes(include = 'int64').columns"
   ]
  },
  {
   "cell_type": "code",
   "execution_count": 11,
   "id": "77107593-e343-4011-8db2-2efdf65d93b9",
   "metadata": {},
   "outputs": [
    {
     "name": "stdout",
     "output_type": "stream",
     "text": [
      "<class 'pandas.core.frame.DataFrame'>\n",
      "RangeIndex: 1000 entries, 0 to 999\n",
      "Data columns (total 7 columns):\n",
      " #   Column       Non-Null Count  Dtype \n",
      "---  ------       --------------  ----- \n",
      " 0   rank         1000 non-null   int64 \n",
      " 1   Video        1000 non-null   object\n",
      " 2   Video views  1000 non-null   object\n",
      " 3   Likes        973 non-null    object\n",
      " 4   Dislikes     687 non-null    object\n",
      " 5   Category     820 non-null    object\n",
      " 6   published    1000 non-null   int64 \n",
      "dtypes: int64(2), object(5)\n",
      "memory usage: 54.8+ KB\n"
     ]
    }
   ],
   "source": [
    "df.info()"
   ]
  },
  {
   "cell_type": "code",
   "execution_count": 12,
   "id": "0b06b630-334c-4172-9e83-7330c8492943",
   "metadata": {},
   "outputs": [
    {
     "data": {
      "text/plain": [
       "<seaborn.axisgrid.PairGrid at 0x231b473b230>"
      ]
     },
     "execution_count": 12,
     "metadata": {},
     "output_type": "execute_result"
    },
    {
     "data": {
      "image/png": "[encoded data removed]",
      "text/plain": [
       "<Figure size 500x500 with 6 Axes>"
      ]
     },
     "metadata": {},
     "output_type": "display_data"
    }
   ],
   "source": [
    "sns.pairplot(df)"
   ]
  },
  {
   "cell_type": "code",
   "execution_count": 13,
   "id": "eefe364e-74d3-469d-92d3-81eaefce4703",
   "metadata": {},
   "outputs": [
    {
     "data": {
      "text/plain": [
       "(1000, 7)"
      ]
     },
     "execution_count": 13,
     "metadata": {},
     "output_type": "execute_result"
    }
   ],
   "source": [
    "df.shape"
   ]
  },
  {
   "cell_type": "code",
   "execution_count": 14,
   "id": "e99c0624-b6a2-4d88-b645-1232c4bf211b",
   "metadata": {},
   "outputs": [
    {
     "data": {
      "text/plain": [
       "7000"
      ]
     },
     "execution_count": 14,
     "metadata": {},
     "output_type": "execute_result"
    }
   ],
   "source": [
    "df.size"
   ]
  },
  {
   "cell_type": "code",
   "execution_count": 15,
   "id": "0137054d-56ab-4917-84c5-83de0df48630",
   "metadata": {},
   "outputs": [
    {
     "data": {
      "text/html": [
       "<div>\n",
       "<style scoped>\n",
       "    .dataframe tbody tr th:only-of-type {\n",
       "        vertical-align: middle;\n",
       "    }\n",
       "\n",
       "    .dataframe tbody tr th {\n",
       "        vertical-align: top;\n",
       "    }\n",
       "\n",
       "    .dataframe thead th {\n",
       "        text-align: right;\n",
       "    }\n",
       "</style>\n",
       "<table border=\"1\" class=\"dataframe\">\n",
       "  <thead>\n",
       "    <tr style=\"text-align: right;\">\n",
       "      <th></th>\n",
       "      <th>rank</th>\n",
       "      <th>published</th>\n",
       "    </tr>\n",
       "  </thead>\n",
       "  <tbody>\n",
       "    <tr>\n",
       "      <th>count</th>\n",
       "      <td>1000.000000</td>\n",
       "      <td>1000.000000</td>\n",
       "    </tr>\n",
       "    <tr>\n",
       "      <th>mean</th>\n",
       "      <td>500.500000</td>\n",
       "      <td>2015.933000</td>\n",
       "    </tr>\n",
       "    <tr>\n",
       "      <th>std</th>\n",
       "      <td>288.819436</td>\n",
       "      <td>6.054847</td>\n",
       "    </tr>\n",
       "    <tr>\n",
       "      <th>min</th>\n",
       "      <td>1.000000</td>\n",
       "      <td>2005.000000</td>\n",
       "    </tr>\n",
       "    <tr>\n",
       "      <th>25%</th>\n",
       "      <td>250.750000</td>\n",
       "      <td>2010.000000</td>\n",
       "    </tr>\n",
       "    <tr>\n",
       "      <th>50%</th>\n",
       "      <td>500.500000</td>\n",
       "      <td>2017.000000</td>\n",
       "    </tr>\n",
       "    <tr>\n",
       "      <th>75%</th>\n",
       "      <td>750.250000</td>\n",
       "      <td>2021.000000</td>\n",
       "    </tr>\n",
       "    <tr>\n",
       "      <th>max</th>\n",
       "      <td>1000.000000</td>\n",
       "      <td>2025.000000</td>\n",
       "    </tr>\n",
       "  </tbody>\n",
       "</table>\n",
       "</div>"
      ],
      "text/plain": [
       "              rank    published\n",
       "count  1000.000000  1000.000000\n",
       "mean    500.500000  2015.933000\n",
       "std     288.819436     6.054847\n",
       "min       1.000000  2005.000000\n",
       "25%     250.750000  2010.000000\n",
       "50%     500.500000  2017.000000\n",
       "75%     750.250000  2021.000000\n",
       "max    1000.000000  2025.000000"
      ]
     },
     "execution_count": 15,
     "metadata": {},
     "output_type": "execute_result"
    }
   ],
   "source": [
    "df.describe()"
   ]
  },
  {
   "cell_type": "code",
   "execution_count": 16,
   "id": "6ac48a41-dce5-4528-9d40-a2ffcad7cd8e",
   "metadata": {},
   "outputs": [
    {
     "data": {
      "text/html": [
       "<div>\n",
       "<style scoped>\n",
       "    .dataframe tbody tr th:only-of-type {\n",
       "        vertical-align: middle;\n",
       "    }\n",
       "\n",
       "    .dataframe tbody tr th {\n",
       "        vertical-align: top;\n",
       "    }\n",
       "\n",
       "    .dataframe thead th {\n",
       "        text-align: right;\n",
       "    }\n",
       "</style>\n",
       "<table border=\"1\" class=\"dataframe\">\n",
       "  <thead>\n",
       "    <tr style=\"text-align: right;\">\n",
       "      <th></th>\n",
       "      <th>Video</th>\n",
       "      <th>Video views</th>\n",
       "      <th>Likes</th>\n",
       "      <th>Dislikes</th>\n",
       "      <th>Category</th>\n",
       "    </tr>\n",
       "  </thead>\n",
       "  <tbody>\n",
       "    <tr>\n",
       "      <th>count</th>\n",
       "      <td>1000</td>\n",
       "      <td>1000</td>\n",
       "      <td>973</td>\n",
       "      <td>687</td>\n",
       "      <td>820</td>\n",
       "    </tr>\n",
       "    <tr>\n",
       "      <th>unique</th>\n",
       "      <td>994</td>\n",
       "      <td>1000</td>\n",
       "      <td>843</td>\n",
       "      <td>489</td>\n",
       "      <td>15</td>\n",
       "    </tr>\n",
       "    <tr>\n",
       "      <th>top</th>\n",
       "      <td>Aydem Enerji - Hayat için enerji</td>\n",
       "      <td>3,471,237</td>\n",
       "      <td>2</td>\n",
       "      <td>0</td>\n",
       "      <td>Music</td>\n",
       "    </tr>\n",
       "    <tr>\n",
       "      <th>freq</th>\n",
       "      <td>2</td>\n",
       "      <td>1</td>\n",
       "      <td>15</td>\n",
       "      <td>33</td>\n",
       "      <td>284</td>\n",
       "    </tr>\n",
       "  </tbody>\n",
       "</table>\n",
       "</div>"
      ],
      "text/plain": [
       "                                   Video Video views Likes Dislikes Category\n",
       "count                               1000        1000   973      687      820\n",
       "unique                               994        1000   843      489       15\n",
       "top     Aydem Enerji - Hayat için enerji   3,471,237     2        0    Music\n",
       "freq                                   2           1    15       33      284"
      ]
     },
     "execution_count": 16,
     "metadata": {},
     "output_type": "execute_result"
    }
   ],
   "source": [
    "df.describe(include = ['object'])"
   ]
  },
  {
   "cell_type": "code",
   "execution_count": 17,
   "id": "784d9eb7-afe7-48da-a87c-e53350083f2b",
   "metadata": {},
   "outputs": [
    {
     "data": {
      "text/plain": [
       "array([nan, 'Music', 'Entertainment', 'Sports', 'Comedy',\n",
       "       'People & Blogs', 'Gaming', 'Pets & Animals', 'Autos & Vehicles',\n",
       "       'Education', 'Film & Animation', 'News & Politics',\n",
       "       'Howto & Style', 'Travel & Events', 'Nonprofits & Activism',\n",
       "       'Science & Technology'], dtype=object)"
      ]
     },
     "execution_count": 17,
     "metadata": {},
     "output_type": "execute_result"
    }
   ],
   "source": [
    "df.Category.unique()"
   ]
  },
  {
   "cell_type": "code",
   "execution_count": 18,
   "id": "2b431e38-4684-4b69-b816-eeb3f7138c20",
   "metadata": {},
   "outputs": [
    {
     "data": {
      "text/plain": [
       "array(['859', '78,799', nan, '21,195', '82', '1,082', '6,485', '156',\n",
       "       '10,949', '2,059', '103', '3,504', '6', '11,521', '1,756', '307',\n",
       "       '8,212', '46,705', '1,305', '271', '0', '16,530', '83', '34,185',\n",
       "       '1,095', '69', '772', '854', '747', '46,151', '5,689', '4,116',\n",
       "       '1,360', '2,393', '3', '626', '4,340', '1,628', '63', '12', '509',\n",
       "       '194', '282', '129', '1,225', '2', '752', '212', '2,334', '745',\n",
       "       '20,698', '3,713', '101', '38', '48,539', '4,045', '51', '1,204',\n",
       "       '2,542', '1,247', '1,033', '1,665', '171', '204', '1', '256',\n",
       "       '152', '12,082', '303', '259', '225', '2,419', '419', '1,433',\n",
       "       '10,810', '441', '106', '117', '1,966', '89', '3,489', '93', '90',\n",
       "       '1,691', '11', '2,398', '507', '96', '15', '29', '640', '457',\n",
       "       '672', '119', '276', '199', '7,579', '174', '1,336', '851', '200',\n",
       "       '135', '269', '2,129', '5,157', '3,217', '605', '4,833', '52',\n",
       "       '342', '5,442', '1,079', '263', '1,793', '42', '432', '1,051',\n",
       "       '1,067', '230', '27', '1,749', '27,835', '13,769', '76', '685',\n",
       "       '1,337', '273', '41', '162', '248', '185', '45', '2,288', '417',\n",
       "       '1,256', '116', '846', '580', '215', '1,040', '7,432', '338',\n",
       "       '143', '2,414', '14', '4,296', '4,753', '88', '399', '868', '141',\n",
       "       '9', '126', '5,740', '102', '97', '222', '350', '184', '1,163',\n",
       "       '150', '120', '131', '292', '54', '773', '502', '1,872', '352',\n",
       "       '8', '1,289', '6,244', '2,200', '907', '1,532', '299', '703',\n",
       "       '109', '17', '357', '257', '1,776', '254', '149', '7', '22', '26',\n",
       "       '3,138', '1,292', '4', '2,670', '760', '247', '4,503', '65', '87',\n",
       "       '74', '224', '887', '834', '40', '290', '769', '735', '438', '153',\n",
       "       '34', '206', '387', '4,604', '169', '79', '1,216', '748', '118',\n",
       "       '31', '806', '217', '198', '2,231', '75', '2,350', '858', '66',\n",
       "       '134', '10', '16', '515', '55', '110', '1,032', '306', '284',\n",
       "       '471', '803', '28', '2,027', '1,821', '60', '8,155', '44,953',\n",
       "       '113', '406', '239', '465', '234', '2,753', '1,853', '1,456',\n",
       "       '2,904', '1,251', '2,073', '581', '5,494', '1,491', '21,652',\n",
       "       '1,589', '170', '61', '197', '1,006', '985', '44', '991', '176',\n",
       "       '1,435', '221', '132', '7,131', '313', '30', '218', '1,486',\n",
       "       '1,208', '873', '328', '272', '2,324', '46', '346', '181', '91',\n",
       "       '300', '84', '6,017', '381', '787', '2,859', '757', '763', '62',\n",
       "       '4,760', '1,239', '179', '474', '160', '530', '147', '10,100',\n",
       "       '4,411', '416', '210', '1,779', '376', '4,457', '522', '2,442',\n",
       "       '1,151', '344', '575', '345', '3,111', '2,469', '422', '652',\n",
       "       '1,468', '12,051', '738', '576', '2,692', '1,243', '283', '1,547',\n",
       "       '78', '10,522', '173', '3,832', '595', '2,992', '496', '762',\n",
       "       '1,900', '280', '485', '274', '191', '779', '5', '756', '73',\n",
       "       '812', '643', '57', '3,827', '148', '570', '615', '32', '4,683',\n",
       "       '180', '692', '56', '189', '37', '1,565', '67', '2,663', '1,155',\n",
       "       '121', '243', '634', '351', '1,626', '289', '85', '107', '70',\n",
       "       '494', '528', '1,405', '427', '4,304', '122', '484', '80', '1,268',\n",
       "       '9,893', '1,453', '7,171', '709', '2,081', '195', '524', '182',\n",
       "       '123', '10,707', '1,726', '186', '2,075', '114', '2,277', '175',\n",
       "       '468', '47', '1,455', '348', '508', '1,647', '262', '207', '1,476',\n",
       "       '255', '420', '48', '244', '330', '267', '281', '53', '4,727',\n",
       "       '201', '1,986', '2,007', '146', '764', '495', '77', '286', '2,357',\n",
       "       '18,041', '1,735', '3,604', '548', '629', '158', '19', '1,147',\n",
       "       '1,373', '1,621', '260', '178', '1,967', '811', '3,924', '1,747',\n",
       "       '161', '1,211', '3,013', '900', '1,937', '1,363', '955', '64',\n",
       "       '24', '3,969', '477', '1,416', '1,807', '105', '59', '695', '36',\n",
       "       '1,029', '38,062', '690', '9,843', '929', '43', '3,901', '394',\n",
       "       '3,809', '503', '2,655', '145', '1,852', '1,047', '168', '2,096',\n",
       "       '1,927', '2,737', '1,023', '28,321', '1,653', '237', '2,828',\n",
       "       '989', '878', '232', '525', '3,168', '375', '16,759', '261',\n",
       "       '1,997', '950', '1,535', '1,387', '454', '1,533', '426'],\n",
       "      dtype=object)"
      ]
     },
     "execution_count": 18,
     "metadata": {},
     "output_type": "execute_result"
    }
   ],
   "source": [
    "df.Dislikes.unique()"
   ]
  },
  {
   "cell_type": "markdown",
   "id": "fa774672-8aa8-49d3-a5bd-b3480b8370d7",
   "metadata": {},
   "source": [
    "### Data cleanning - 1: fixing data inconsistency"
   ]
  },
  {
   "cell_type": "code",
   "execution_count": 19,
   "id": "de13b903-31e1-454c-b6a3-8818522bc477",
   "metadata": {},
   "outputs": [],
   "source": [
    "df['Likes'] = df.Likes.str.strip()"
   ]
  },
  {
   "cell_type": "code",
   "execution_count": 20,
   "id": "484961d0-2766-446f-aa26-c846a158c642",
   "metadata": {},
   "outputs": [],
   "source": [
    "df['Likes'] = df['Likes'].replace('?',np.nan)"
   ]
  },
  {
   "cell_type": "code",
   "execution_count": 21,
   "id": "86ef3bbb-0cea-4c05-99fb-a6387d1ba510",
   "metadata": {},
   "outputs": [
    {
     "data": {
      "text/html": [
       "<div>\n",
       "<style scoped>\n",
       "    .dataframe tbody tr th:only-of-type {\n",
       "        vertical-align: middle;\n",
       "    }\n",
       "\n",
       "    .dataframe tbody tr th {\n",
       "        vertical-align: top;\n",
       "    }\n",
       "\n",
       "    .dataframe thead th {\n",
       "        text-align: right;\n",
       "    }\n",
       "</style>\n",
       "<table border=\"1\" class=\"dataframe\">\n",
       "  <thead>\n",
       "    <tr style=\"text-align: right;\">\n",
       "      <th></th>\n",
       "      <th>rank</th>\n",
       "      <th>Video views</th>\n",
       "      <th>Likes</th>\n",
       "    </tr>\n",
       "  </thead>\n",
       "  <tbody>\n",
       "    <tr>\n",
       "      <th>1</th>\n",
       "      <td>2</td>\n",
       "      <td>54,071,677</td>\n",
       "      <td>3,497,955</td>\n",
       "    </tr>\n",
       "    <tr>\n",
       "      <th>2</th>\n",
       "      <td>3</td>\n",
       "      <td>34,206,747</td>\n",
       "      <td>293,563</td>\n",
       "    </tr>\n",
       "    <tr>\n",
       "      <th>3</th>\n",
       "      <td>4</td>\n",
       "      <td>6,643,904,918</td>\n",
       "      <td>44,861,602</td>\n",
       "    </tr>\n",
       "    <tr>\n",
       "      <th>4</th>\n",
       "      <td>5</td>\n",
       "      <td>236,085,971</td>\n",
       "      <td>38</td>\n",
       "    </tr>\n",
       "    <tr>\n",
       "      <th>5</th>\n",
       "      <td>6</td>\n",
       "      <td>76,834,495</td>\n",
       "      <td>804,353</td>\n",
       "    </tr>\n",
       "  </tbody>\n",
       "</table>\n",
       "</div>"
      ],
      "text/plain": [
       "   rank    Video views       Likes\n",
       "1     2     54,071,677   3,497,955\n",
       "2     3     34,206,747     293,563\n",
       "3     4  6,643,904,918  44,861,602\n",
       "4     5    236,085,971          38\n",
       "5     6     76,834,495     804,353"
      ]
     },
     "execution_count": 21,
     "metadata": {},
     "output_type": "execute_result"
    }
   ],
   "source": [
    "df.iloc[1:6, [0,2,3]]"
   ]
  },
  {
   "cell_type": "code",
   "execution_count": 22,
   "id": "62fa105c-702c-495b-9adb-f8dd7b339d9c",
   "metadata": {},
   "outputs": [
    {
     "data": {
      "text/plain": [
       "array(['19,023', '3,497,955', '293,563', '44,861,602', '38', '804,353',\n",
       "       '680,732', '1,007', '6', '5,613', '46', '320,910', '54,903',\n",
       "       '3,339', '452,087', '4,533', '149,421', '111,497', '116,350',\n",
       "       '2,442', '155,543', '21', '5,492', '6,216', '8,436', '98',\n",
       "       '111,266', '226,375', '62', '9,038,575', '347,772', '3,957', '29',\n",
       "       '159,903', '122,706', '1,772,692', '1,102', '4', '2,156', '20,088',\n",
       "       '13,840,531', '2,705', '14', '1,027,392', '11,010', '113,198',\n",
       "       '2,742', '7,102', '18,968', '8', '6,075', '2,300', '1', '93,112',\n",
       "       '159,823', '97,009', '2,935', '1,267', '10', '7,504', '15,813',\n",
       "       '99,982', '7', '10,461', '24,016', '1,951', '13', '5,352', '1,307',\n",
       "       '95,387', '33,263', '2,413', '5,891', '5,972', '4,282', '3,883',\n",
       "       '3,604', '3', '22,217', '32,362', '9', '734', nan, '7,891',\n",
       "       '7,725', '22,343', '2', '168,798', '137,088', '12,274', '36,190',\n",
       "       '12,980', '32', '44', '3,810,456', '93,750', '4,071', '287,616',\n",
       "       '39,264', '33,875', '441,696', '32,649', '786', '28,842', '2,836',\n",
       "       '4,492', '4,636', '376', '5', '36,936', '87,384', '6,997',\n",
       "       '10,186', '2,538', '6,108', '346,074', '204,468', '52', '56,077',\n",
       "       '32,324', '41', '9,802,981', '942', '2,810', '1,984', '785',\n",
       "       '2,240', '160,883', '180,683', '5,399', '2,726', '7,883', '3,476',\n",
       "       '697', '398', '2,977', '3,379', '1,481', '2,084', '3,507', '732',\n",
       "       '18,295', '16', '279,649', '101', '23,880', '19,766', '2,513',\n",
       "       '712', '27', '2,410', '3,233', '7,414', '738', '63', '1,626',\n",
       "       '3,800', '211,037', '23', '59,198', '88,475', '161,626', '179,818',\n",
       "       '4,331', '81,236', '4,430', '50,817', '22,826', '2,235', '3,712',\n",
       "       '181', '8,542', '5,982', '8,744', '1,730', '59,621', '562', '114',\n",
       "       '337,066', '45,556', '160,328', '61,186', '10,788', '4,724',\n",
       "       '2,458', '4,677', '1,035', '3,008', '3,046', '1,104', '444',\n",
       "       '5,237', '123,687', '791', '6,783', '6,457', '0', '58,129',\n",
       "       '94,228', '98,070', '108', '58,596', '9,118', '135,303', '17,261',\n",
       "       '694', '30', '84,759', '97,649', '36,946', '1,083', '15,509',\n",
       "       '6,766', '1,642', '1,284', '1,632', '32,449', '19,461', '839',\n",
       "       '5,401', '8,052', '11,170', '19,110', '373', '442', '3,467',\n",
       "       '1,819', '421', '596', '879', '83,058', '61', '19', '15', '49,065',\n",
       "       '109,936', '66,830', '18,770', '27,036', '4,805', '6,601', '3,162',\n",
       "       '192', '165', '25,274', '1,285', '3,934', '1,123', '1,210',\n",
       "       '1,966', '990', '6,100', '3,931', '34', '6,432', '475', '705',\n",
       "       '375', '216', '2,312', '2,971', '1,783', '105', '14,563', '23,510',\n",
       "       '25,688', '93', '27,426', '90', '20', '89,811', '199,564',\n",
       "       '45,890', '13,937', '112,684', '41,102', '1,932,403', '63,605',\n",
       "       '122,955', '263,086', '30,525', '17', '65,566', '1,128,880',\n",
       "       '9,651', '17,689', '18,095', '6,684,120', '39,804', '7,357', '433',\n",
       "       '11,336', '3,902', '15,639', '803', '10,164', '12,128', '74,420',\n",
       "       '3,389', '8,936', '146', '1,650', '1,978', '2,280', '2,947',\n",
       "       '24,140', '3,034', '30,180', '1,899', '169,009', '108,128',\n",
       "       '3,343', '1,638', '8,333', '427', '2,923', '950', '2,026', '365',\n",
       "       '1,734', '7,435', '4,751', '20,964', '23,083', '156,105',\n",
       "       '1,032,825', '3,259,676', '1,719,118', '1,868,300', '5,714',\n",
       "       '23,701', '382', '3,939', '11,517', '253', '1,923', '4,498', '31',\n",
       "       '963', '2,432', '8,834', '1,187', '1,019', '1,194', '62,744',\n",
       "       '5,011', '58', '50,810', '5,835', '28,326', '10,376', '1,514',\n",
       "       '1,739', '4,330', '15,236', '1,552', '1,540', '975', '197',\n",
       "       '4,290', '605', '2,379', '6,870', '1,861', '3,199', '1,989',\n",
       "       '3,889', '1,164', '1,532', '1,239', '2,478', '24,707', '2,995',\n",
       "       '317,352', '702', '44,137', '41,513', '134,873', '157,703', '24',\n",
       "       '517,095', '27,064', '26,765', '92,278', '11,495', '10,812',\n",
       "       '45,620', '14,506', '18,204', '7,770', '12,792', '20,719',\n",
       "       '13,731', '318,037', '8,190', '13,803', '887', '5,186', '561',\n",
       "       '2,444', '2,431', '47,735', '37,127', '39,783', '81,470', '1,617',\n",
       "       '392', '4,545', '52,593', '28,127', '64,224', '87,538', '16,311',\n",
       "       '2,237', '4,907', '3,455', '1,098', '447', '85', '3,024', '2,286',\n",
       "       '6,001', '5,383', '3,145', '799', '6,389', '202,477', '40,432',\n",
       "       '47', '161', '743', '14,735', '2,062', '2,408', '33', '2,752',\n",
       "       '39,480', '2,000', '14,725', '3,361', '647', '106', '4,305',\n",
       "       '5,080', '1,897', '22,368', '7,132', '2,561', '3,440', '572',\n",
       "       '12,906', '137', '2,708', '21,753', '391', '21,100', '210',\n",
       "       '109,633', '8,362', '34,829', '22', '64,248', '34,494', '10,366',\n",
       "       '34,861', '13,340', '129,977', '18,109', '1,616,667', '3,173,002',\n",
       "       '6,820', '2,515,187', '29,151', '39,090', '223,418', '74,581',\n",
       "       '24,060', '214,969', '860,277', '4,561', '109,406', '42', '1,009',\n",
       "       '7,651', '10,651', '1,317', '8,941', '15,233', '42,810', '10,964',\n",
       "       '4,668', '6,734', '7,507', '4,112', '9,263', '13,431', '88,736',\n",
       "       '1,006', '14,720', '1,323', '5,004', '2,295', '2,863', '1,393',\n",
       "       '7,520', '2,746', '3,393', '1,563', '1,207', '5,378', '68,446',\n",
       "       '7,240', '11,538', '321', '41,698', '715', '1,857', '1,222',\n",
       "       '2,600', '29,689', '10,616', '18,051', '489', '17,084', '5,350',\n",
       "       '41,735', '26,772', '1,268', '51,443', '7,060', '299', '4,548',\n",
       "       '29,600', '1,172', '2,993', '2,735', '128', '276', '977', '2,194',\n",
       "       '1,893', '305', '68,934', '1,022', '4,452', '680', '341', '6,092',\n",
       "       '2,542', '929', '834', '592', '9,278', '996', '2,384', '1,263',\n",
       "       '2,214', '2,426', '3,198', '21,206', '471', '7,347', '25,704',\n",
       "       '1,137', '9,689', '39,271', '39', '25', '6,093', '638,566',\n",
       "       '45,677', '83', '521,085', '26,233', '32,821', '36', '115',\n",
       "       '381,348', '135,813', '50,507', '2,746,942', '1,901,288', '57,629',\n",
       "       '189,564', '2,296,129', '307,889', '30,320', '128,682', '8,224',\n",
       "       '1,780', '13,425', '34,472', '1,924,672', '16,223', '4,911',\n",
       "       '8,338', '10,869', '5,818', '6,993', '180', '3,000', '5,590',\n",
       "       '152', '2,262', '78', '2,602', '67,866', '12,852', '2,304', '331',\n",
       "       '7,999', '2,624', '9,522', '20,874', '6,877', '30,145', '4,014',\n",
       "       '10,975', '2,164', '411', '40', '6,306', '2,798', '8,602',\n",
       "       '12,785', '57,057', '1,811', '6,113', '1,070', '3,326', '1,962',\n",
       "       '823', '5,518', '1,081', '1,706', '888', '12,934', '3,122',\n",
       "       '8,883', '8,347', '2,464', '9,508', '5,540', '5,595', '3,261',\n",
       "       '558', '9,536', '1,565', '7,194', '4,783', '4,499', '627', '1,657',\n",
       "       '1,557', '1,980', '387', '53', '4,645', '11', '14,962', '1,426',\n",
       "       '3,130', '560', '600', '2,166', '1,921', '2,793', '111', '49',\n",
       "       '720', '28,213', '429', '144', '2,342', '677', '860', '8,025',\n",
       "       '14,002', '1,998', '3,600', '4,440', '91,156', '1,562', '301',\n",
       "       '4,719', '575', '11,244', '536', '1,661', '3,187', '12', '2,497',\n",
       "       '4,152', '226', '9,158', '10,448', '2,103', '1,641', '354', '771',\n",
       "       '199', '1,541', '27,628', '516', '1,437', '2,487', '236', '69,506',\n",
       "       '2,351', '2,549', '10,647', '2,013', '22,231', '851', '127,492',\n",
       "       '6,840', '27,675', '3,681', '118', '24,156', '159', '2,558',\n",
       "       '32,918', '55,604', '33,390', '14,122', '2,967,591', '69,340',\n",
       "       '121,986', '40,451', '9,477', '22,542', '38,443', '11,809',\n",
       "       '184,120', '70,327', '8,473', '24,553', '124,089', '10,643',\n",
       "       '1,117,902', '1,790', '133', '3,856', '129,469', '37', '11,951',\n",
       "       '3,001', '14,378', '198,513', '272,550', '5,164', '186', '2,955',\n",
       "       '18', '48', '20,921', '17,094', '240,778', '127,110', '131',\n",
       "       '21,237', '5,919', '6,594', '123,748', '58,361', '64,375',\n",
       "       '25,232', '422', '10,498', '18,255', '37,200', '30,924', '86,484',\n",
       "       '41,572', '46,378', '51,542', '2,347,710', '13,705', '770,294',\n",
       "       '24,507', '25,949', '125,508', '33,644', '53,493', '5,143',\n",
       "       '9,915', '2,457', '567', '18,663', '400', '395', '273', '277',\n",
       "       '8,064', '4,344', '3,157', '38,890', '98,565', '13,589', '4,263',\n",
       "       '7,759', '3,746', '1,551', '8,840', '143,295', '1,471', '2,672',\n",
       "       '2,015', '10,317', '25,741', '44,450', '538', '723', '6,369',\n",
       "       '55,010', '13,643', '40,072', '1,041', '5,762', '13,097', '8,173',\n",
       "       '1,033', '11,645', '1,845', '2,677', '7,495', '1,473', '7,993',\n",
       "       '5,944', '5,250', '11,303', '5,214', '3,060', '25,739', '795',\n",
       "       '24,800', '3,076', '877', '706', '2,949', '7,254', '3,427', '184'],\n",
       "      dtype=object)"
      ]
     },
     "execution_count": 22,
     "metadata": {},
     "output_type": "execute_result"
    }
   ],
   "source": [
    "df['Likes'].unique()"
   ]
  },
  {
   "cell_type": "markdown",
   "id": "76dc86d9-6723-4650-bdb9-5bfe6c20bda2",
   "metadata": {},
   "source": [
    " ### EDA-2: Indexing and filtering of Dataset"
   ]
  },
  {
   "cell_type": "code",
   "execution_count": 23,
   "id": "4d76727f-b318-4a86-a8c4-48d876dc0303",
   "metadata": {},
   "outputs": [
    {
     "data": {
      "text/html": [
       "<div>\n",
       "<style scoped>\n",
       "    .dataframe tbody tr th:only-of-type {\n",
       "        vertical-align: middle;\n",
       "    }\n",
       "\n",
       "    .dataframe tbody tr th {\n",
       "        vertical-align: top;\n",
       "    }\n",
       "\n",
       "    .dataframe thead th {\n",
       "        text-align: right;\n",
       "    }\n",
       "</style>\n",
       "<table border=\"1\" class=\"dataframe\">\n",
       "  <thead>\n",
       "    <tr style=\"text-align: right;\">\n",
       "      <th></th>\n",
       "      <th>Likes</th>\n",
       "      <th>Dislikes</th>\n",
       "    </tr>\n",
       "  </thead>\n",
       "  <tbody>\n",
       "    <tr>\n",
       "      <th>1</th>\n",
       "      <td>3,497,955</td>\n",
       "      <td>78,799</td>\n",
       "    </tr>\n",
       "    <tr>\n",
       "      <th>2</th>\n",
       "      <td>293,563</td>\n",
       "      <td>NaN</td>\n",
       "    </tr>\n",
       "    <tr>\n",
       "      <th>3</th>\n",
       "      <td>44,861,602</td>\n",
       "      <td>NaN</td>\n",
       "    </tr>\n",
       "    <tr>\n",
       "      <th>4</th>\n",
       "      <td>38</td>\n",
       "      <td>NaN</td>\n",
       "    </tr>\n",
       "    <tr>\n",
       "      <th>5</th>\n",
       "      <td>804,353</td>\n",
       "      <td>21,195</td>\n",
       "    </tr>\n",
       "    <tr>\n",
       "      <th>6</th>\n",
       "      <td>680,732</td>\n",
       "      <td>NaN</td>\n",
       "    </tr>\n",
       "  </tbody>\n",
       "</table>\n",
       "</div>"
      ],
      "text/plain": [
       "        Likes Dislikes\n",
       "1   3,497,955   78,799\n",
       "2     293,563      NaN\n",
       "3  44,861,602      NaN\n",
       "4          38      NaN\n",
       "5     804,353   21,195\n",
       "6     680,732      NaN"
      ]
     },
     "execution_count": 23,
     "metadata": {},
     "output_type": "execute_result"
    }
   ],
   "source": [
    "df.loc[1:6, ['Likes' , 'Dislikes']]"
   ]
  },
  {
   "cell_type": "code",
   "execution_count": 24,
   "id": "bf537546-296b-47a0-975a-53394b1ec6e8",
   "metadata": {},
   "outputs": [
    {
     "data": {
      "text/html": [
       "<div>\n",
       "<style scoped>\n",
       "    .dataframe tbody tr th:only-of-type {\n",
       "        vertical-align: middle;\n",
       "    }\n",
       "\n",
       "    .dataframe tbody tr th {\n",
       "        vertical-align: top;\n",
       "    }\n",
       "\n",
       "    .dataframe thead th {\n",
       "        text-align: right;\n",
       "    }\n",
       "</style>\n",
       "<table border=\"1\" class=\"dataframe\">\n",
       "  <thead>\n",
       "    <tr style=\"text-align: right;\">\n",
       "      <th></th>\n",
       "      <th>Video views</th>\n",
       "      <th>Likes</th>\n",
       "      <th>Dislikes</th>\n",
       "    </tr>\n",
       "  </thead>\n",
       "  <tbody>\n",
       "    <tr>\n",
       "      <th>1</th>\n",
       "      <td>54,071,677</td>\n",
       "      <td>3,497,955</td>\n",
       "      <td>78,799</td>\n",
       "    </tr>\n",
       "    <tr>\n",
       "      <th>2</th>\n",
       "      <td>34,206,747</td>\n",
       "      <td>293,563</td>\n",
       "      <td>NaN</td>\n",
       "    </tr>\n",
       "    <tr>\n",
       "      <th>3</th>\n",
       "      <td>6,643,904,918</td>\n",
       "      <td>44,861,602</td>\n",
       "      <td>NaN</td>\n",
       "    </tr>\n",
       "    <tr>\n",
       "      <th>4</th>\n",
       "      <td>236,085,971</td>\n",
       "      <td>38</td>\n",
       "      <td>NaN</td>\n",
       "    </tr>\n",
       "    <tr>\n",
       "      <th>5</th>\n",
       "      <td>76,834,495</td>\n",
       "      <td>804,353</td>\n",
       "      <td>21,195</td>\n",
       "    </tr>\n",
       "    <tr>\n",
       "      <th>6</th>\n",
       "      <td>18,558,390</td>\n",
       "      <td>680,732</td>\n",
       "      <td>NaN</td>\n",
       "    </tr>\n",
       "  </tbody>\n",
       "</table>\n",
       "</div>"
      ],
      "text/plain": [
       "     Video views       Likes Dislikes\n",
       "1     54,071,677   3,497,955   78,799\n",
       "2     34,206,747     293,563      NaN\n",
       "3  6,643,904,918  44,861,602      NaN\n",
       "4    236,085,971          38      NaN\n",
       "5     76,834,495     804,353   21,195\n",
       "6     18,558,390     680,732      NaN"
      ]
     },
     "execution_count": 24,
     "metadata": {},
     "output_type": "execute_result"
    }
   ],
   "source": [
    "df.loc[1:6, ['Video views' , 'Likes','Dislikes']]"
   ]
  },
  {
   "cell_type": "code",
   "execution_count": 25,
   "id": "a863f50d-20e5-4359-aaad-8dfeb044da9e",
   "metadata": {},
   "outputs": [
    {
     "data": {
      "text/html": [
       "<div>\n",
       "<style scoped>\n",
       "    .dataframe tbody tr th:only-of-type {\n",
       "        vertical-align: middle;\n",
       "    }\n",
       "\n",
       "    .dataframe tbody tr th {\n",
       "        vertical-align: top;\n",
       "    }\n",
       "\n",
       "    .dataframe thead th {\n",
       "        text-align: right;\n",
       "    }\n",
       "</style>\n",
       "<table border=\"1\" class=\"dataframe\">\n",
       "  <thead>\n",
       "    <tr style=\"text-align: right;\">\n",
       "      <th></th>\n",
       "      <th>Video views</th>\n",
       "      <th>Likes</th>\n",
       "      <th>Dislikes</th>\n",
       "    </tr>\n",
       "  </thead>\n",
       "  <tbody>\n",
       "    <tr>\n",
       "      <th>1</th>\n",
       "      <td>54,071,677</td>\n",
       "      <td>3,497,955</td>\n",
       "      <td>78,799</td>\n",
       "    </tr>\n",
       "    <tr>\n",
       "      <th>2</th>\n",
       "      <td>34,206,747</td>\n",
       "      <td>293,563</td>\n",
       "      <td>NaN</td>\n",
       "    </tr>\n",
       "    <tr>\n",
       "      <th>3</th>\n",
       "      <td>6,643,904,918</td>\n",
       "      <td>44,861,602</td>\n",
       "      <td>NaN</td>\n",
       "    </tr>\n",
       "    <tr>\n",
       "      <th>4</th>\n",
       "      <td>236,085,971</td>\n",
       "      <td>38</td>\n",
       "      <td>NaN</td>\n",
       "    </tr>\n",
       "    <tr>\n",
       "      <th>5</th>\n",
       "      <td>76,834,495</td>\n",
       "      <td>804,353</td>\n",
       "      <td>21,195</td>\n",
       "    </tr>\n",
       "  </tbody>\n",
       "</table>\n",
       "</div>"
      ],
      "text/plain": [
       "     Video views       Likes Dislikes\n",
       "1     54,071,677   3,497,955   78,799\n",
       "2     34,206,747     293,563      NaN\n",
       "3  6,643,904,918  44,861,602      NaN\n",
       "4    236,085,971          38      NaN\n",
       "5     76,834,495     804,353   21,195"
      ]
     },
     "execution_count": 25,
     "metadata": {},
     "output_type": "execute_result"
    }
   ],
   "source": [
    "df.iloc[1:6,2:5]"
   ]
  },
  {
   "cell_type": "markdown",
   "id": "867bdd2b-0581-43a4-a73f-916cb2e13e20",
   "metadata": {},
   "source": [
    "### filtering"
   ]
  },
  {
   "cell_type": "code",
   "execution_count": 26,
   "id": "dab8ceaf-7ac0-4c0f-95b8-f86a1c749725",
   "metadata": {},
   "outputs": [
    {
     "data": {
      "text/html": [
       "<div>\n",
       "<style scoped>\n",
       "    .dataframe tbody tr th:only-of-type {\n",
       "        vertical-align: middle;\n",
       "    }\n",
       "\n",
       "    .dataframe tbody tr th {\n",
       "        vertical-align: top;\n",
       "    }\n",
       "\n",
       "    .dataframe thead th {\n",
       "        text-align: right;\n",
       "    }\n",
       "</style>\n",
       "<table border=\"1\" class=\"dataframe\">\n",
       "  <thead>\n",
       "    <tr style=\"text-align: right;\">\n",
       "      <th></th>\n",
       "      <th>rank</th>\n",
       "      <th>Video</th>\n",
       "      <th>Video views</th>\n",
       "      <th>Likes</th>\n",
       "      <th>Dislikes</th>\n",
       "      <th>Category</th>\n",
       "      <th>published</th>\n",
       "    </tr>\n",
       "  </thead>\n",
       "  <tbody>\n",
       "    <tr>\n",
       "      <th>0</th>\n",
       "      <td>1</td>\n",
       "      <td>20 Tennis shots if they were not filmed, NOBOD...</td>\n",
       "      <td>3,471,237</td>\n",
       "      <td>19,023</td>\n",
       "      <td>859</td>\n",
       "      <td>NaN</td>\n",
       "      <td>2017</td>\n",
       "    </tr>\n",
       "    <tr>\n",
       "      <th>1</th>\n",
       "      <td>2</td>\n",
       "      <td>Lil Nas X - Old Town Road (Official Movie) ft....</td>\n",
       "      <td>54,071,677</td>\n",
       "      <td>3,497,955</td>\n",
       "      <td>78,799</td>\n",
       "      <td>Music</td>\n",
       "      <td>2019</td>\n",
       "    </tr>\n",
       "    <tr>\n",
       "      <th>2</th>\n",
       "      <td>3</td>\n",
       "      <td>JoJo Siwa - Karma (Official Video)</td>\n",
       "      <td>34,206,747</td>\n",
       "      <td>293,563</td>\n",
       "      <td>NaN</td>\n",
       "      <td>Music</td>\n",
       "      <td>2024</td>\n",
       "    </tr>\n",
       "    <tr>\n",
       "      <th>3</th>\n",
       "      <td>4</td>\n",
       "      <td>Wiz Khalifa - See You Again ft. Charlie Puth [...</td>\n",
       "      <td>6,643,904,918</td>\n",
       "      <td>44,861,602</td>\n",
       "      <td>NaN</td>\n",
       "      <td>Music</td>\n",
       "      <td>2015</td>\n",
       "    </tr>\n",
       "    <tr>\n",
       "      <th>4</th>\n",
       "      <td>5</td>\n",
       "      <td>伊賀の天然水強炭酸水「家族で、シュワシェア。」篇　15秒</td>\n",
       "      <td>236,085,971</td>\n",
       "      <td>38</td>\n",
       "      <td>NaN</td>\n",
       "      <td>NaN</td>\n",
       "      <td>2021</td>\n",
       "    </tr>\n",
       "    <tr>\n",
       "      <th>...</th>\n",
       "      <td>...</td>\n",
       "      <td>...</td>\n",
       "      <td>...</td>\n",
       "      <td>...</td>\n",
       "      <td>...</td>\n",
       "      <td>...</td>\n",
       "      <td>...</td>\n",
       "    </tr>\n",
       "    <tr>\n",
       "      <th>995</th>\n",
       "      <td>996</td>\n",
       "      <td>CALIFORNIA - MONDAY JUSTICE FEAT. SNOOP DOGG (...</td>\n",
       "      <td>943,248</td>\n",
       "      <td>2,949</td>\n",
       "      <td>22</td>\n",
       "      <td>Music</td>\n",
       "      <td>2017</td>\n",
       "    </tr>\n",
       "    <tr>\n",
       "      <th>996</th>\n",
       "      <td>997</td>\n",
       "      <td>John McEnroe's most famous outburst happened i...</td>\n",
       "      <td>4,853,621</td>\n",
       "      <td>7,254</td>\n",
       "      <td>426</td>\n",
       "      <td>Sports</td>\n",
       "      <td>2010</td>\n",
       "    </tr>\n",
       "    <tr>\n",
       "      <th>997</th>\n",
       "      <td>998</td>\n",
       "      <td>Adi Golan's Group - Teaser</td>\n",
       "      <td>56,578</td>\n",
       "      <td>NaN</td>\n",
       "      <td>NaN</td>\n",
       "      <td>Music</td>\n",
       "      <td>2014</td>\n",
       "    </tr>\n",
       "    <tr>\n",
       "      <th>998</th>\n",
       "      <td>999</td>\n",
       "      <td>Keg tapping goes horribly wrong.</td>\n",
       "      <td>751,804</td>\n",
       "      <td>3,427</td>\n",
       "      <td>313</td>\n",
       "      <td>Entertainment</td>\n",
       "      <td>2017</td>\n",
       "    </tr>\n",
       "    <tr>\n",
       "      <th>999</th>\n",
       "      <td>1000</td>\n",
       "      <td>LIVE Hurricane Irma - Downtown Orlando - Ameri...</td>\n",
       "      <td>554,438</td>\n",
       "      <td>184</td>\n",
       "      <td>8</td>\n",
       "      <td>News &amp; Politics</td>\n",
       "      <td>2016</td>\n",
       "    </tr>\n",
       "  </tbody>\n",
       "</table>\n",
       "<p>1000 rows × 7 columns</p>\n",
       "</div>"
      ],
      "text/plain": [
       "     rank                                              Video    Video views  \\\n",
       "0       1  20 Tennis shots if they were not filmed, NOBOD...      3,471,237   \n",
       "1       2  Lil Nas X - Old Town Road (Official Movie) ft....     54,071,677   \n",
       "2       3                 JoJo Siwa - Karma (Official Video)     34,206,747   \n",
       "3       4  Wiz Khalifa - See You Again ft. Charlie Puth [...  6,643,904,918   \n",
       "4       5                       伊賀の天然水強炭酸水「家族で、シュワシェア。」篇　15秒    236,085,971   \n",
       "..    ...                                                ...            ...   \n",
       "995   996  CALIFORNIA - MONDAY JUSTICE FEAT. SNOOP DOGG (...        943,248   \n",
       "996   997  John McEnroe's most famous outburst happened i...      4,853,621   \n",
       "997   998                         Adi Golan's Group - Teaser         56,578   \n",
       "998   999                   Keg tapping goes horribly wrong.        751,804   \n",
       "999  1000  LIVE Hurricane Irma - Downtown Orlando - Ameri...        554,438   \n",
       "\n",
       "          Likes Dislikes         Category  published  \n",
       "0        19,023      859              NaN       2017  \n",
       "1     3,497,955   78,799            Music       2019  \n",
       "2       293,563      NaN            Music       2024  \n",
       "3    44,861,602      NaN            Music       2015  \n",
       "4            38      NaN              NaN       2021  \n",
       "..          ...      ...              ...        ...  \n",
       "995       2,949       22            Music       2017  \n",
       "996       7,254      426           Sports       2010  \n",
       "997         NaN      NaN            Music       2014  \n",
       "998       3,427      313    Entertainment       2017  \n",
       "999         184        8  News & Politics       2016  \n",
       "\n",
       "[1000 rows x 7 columns]"
      ]
     },
     "execution_count": 26,
     "metadata": {},
     "output_type": "execute_result"
    }
   ],
   "source": [
    "df.sort_values('rank',ascending = True)"
   ]
  },
  {
   "cell_type": "code",
   "execution_count": 27,
   "id": "e9db89d9-da91-4236-ad51-c95949d0d0ca",
   "metadata": {},
   "outputs": [
    {
     "data": {
      "text/html": [
       "<div>\n",
       "<style scoped>\n",
       "    .dataframe tbody tr th:only-of-type {\n",
       "        vertical-align: middle;\n",
       "    }\n",
       "\n",
       "    .dataframe tbody tr th {\n",
       "        vertical-align: top;\n",
       "    }\n",
       "\n",
       "    .dataframe thead th {\n",
       "        text-align: right;\n",
       "    }\n",
       "</style>\n",
       "<table border=\"1\" class=\"dataframe\">\n",
       "  <thead>\n",
       "    <tr style=\"text-align: right;\">\n",
       "      <th></th>\n",
       "      <th>rank</th>\n",
       "      <th>Video</th>\n",
       "      <th>Video views</th>\n",
       "      <th>Likes</th>\n",
       "      <th>Dislikes</th>\n",
       "      <th>Category</th>\n",
       "      <th>published</th>\n",
       "    </tr>\n",
       "  </thead>\n",
       "  <tbody>\n",
       "    <tr>\n",
       "      <th>669</th>\n",
       "      <td>670</td>\n",
       "      <td>Passo Bem Solto (Ultra Slowed)</td>\n",
       "      <td>4,678,071</td>\n",
       "      <td>57,629</td>\n",
       "      <td>NaN</td>\n",
       "      <td>Music</td>\n",
       "      <td>2025</td>\n",
       "    </tr>\n",
       "    <tr>\n",
       "      <th>33</th>\n",
       "      <td>34</td>\n",
       "      <td>kwn - worst behaviour (Official Video) ft. Keh...</td>\n",
       "      <td>4,386,564</td>\n",
       "      <td>159,903</td>\n",
       "      <td>NaN</td>\n",
       "      <td>Music</td>\n",
       "      <td>2025</td>\n",
       "    </tr>\n",
       "    <tr>\n",
       "      <th>305</th>\n",
       "      <td>306</td>\n",
       "      <td>JENNIE - ZEN (RUBY ALBUM MARCH 7)</td>\n",
       "      <td>30,170,014</td>\n",
       "      <td>1,932,403</td>\n",
       "      <td>NaN</td>\n",
       "      <td>Music</td>\n",
       "      <td>2025</td>\n",
       "    </tr>\n",
       "    <tr>\n",
       "      <th>306</th>\n",
       "      <td>307</td>\n",
       "      <td>Nanpa Básico, Kris R. - Cariñitos Y Flores (Of...</td>\n",
       "      <td>4,208,059</td>\n",
       "      <td>63,605</td>\n",
       "      <td>NaN</td>\n",
       "      <td>Music</td>\n",
       "      <td>2025</td>\n",
       "    </tr>\n",
       "    <tr>\n",
       "      <th>672</th>\n",
       "      <td>673</td>\n",
       "      <td>AI-Generated: Learn the Importance of Road Saf...</td>\n",
       "      <td>69,350,734</td>\n",
       "      <td>307,889</td>\n",
       "      <td>NaN</td>\n",
       "      <td>People &amp; Blogs</td>\n",
       "      <td>2025</td>\n",
       "    </tr>\n",
       "    <tr>\n",
       "      <th>...</th>\n",
       "      <td>...</td>\n",
       "      <td>...</td>\n",
       "      <td>...</td>\n",
       "      <td>...</td>\n",
       "      <td>...</td>\n",
       "      <td>...</td>\n",
       "      <td>...</td>\n",
       "    </tr>\n",
       "    <tr>\n",
       "      <th>814</th>\n",
       "      <td>815</td>\n",
       "      <td>Fiat 500  vs  Nissan 350z</td>\n",
       "      <td>2,110,577</td>\n",
       "      <td>1,437</td>\n",
       "      <td>146</td>\n",
       "      <td>Autos &amp; Vehicles</td>\n",
       "      <td>2006</td>\n",
       "    </tr>\n",
       "    <tr>\n",
       "      <th>500</th>\n",
       "      <td>501</td>\n",
       "      <td>8 Rules of Fight Club Trailer</td>\n",
       "      <td>1,352,408</td>\n",
       "      <td>2,752</td>\n",
       "      <td>97</td>\n",
       "      <td>Entertainment</td>\n",
       "      <td>2006</td>\n",
       "    </tr>\n",
       "    <tr>\n",
       "      <th>176</th>\n",
       "      <td>177</td>\n",
       "      <td>perfekte welle</td>\n",
       "      <td>2,337,888</td>\n",
       "      <td>4,430</td>\n",
       "      <td>174</td>\n",
       "      <td>NaN</td>\n",
       "      <td>2005</td>\n",
       "    </tr>\n",
       "    <tr>\n",
       "      <th>516</th>\n",
       "      <td>517</td>\n",
       "      <td>singing hippopotamus</td>\n",
       "      <td>6,380,182</td>\n",
       "      <td>3,440</td>\n",
       "      <td>399</td>\n",
       "      <td>Comedy</td>\n",
       "      <td>2005</td>\n",
       "    </tr>\n",
       "    <tr>\n",
       "      <th>378</th>\n",
       "      <td>379</td>\n",
       "      <td>Boomerang</td>\n",
       "      <td>3,050,764</td>\n",
       "      <td>3,939</td>\n",
       "      <td>290</td>\n",
       "      <td>Comedy</td>\n",
       "      <td>2005</td>\n",
       "    </tr>\n",
       "  </tbody>\n",
       "</table>\n",
       "<p>1000 rows × 7 columns</p>\n",
       "</div>"
      ],
      "text/plain": [
       "     rank                                              Video Video views  \\\n",
       "669   670                     Passo Bem Solto (Ultra Slowed)   4,678,071   \n",
       "33     34  kwn - worst behaviour (Official Video) ft. Keh...   4,386,564   \n",
       "305   306                  JENNIE - ZEN (RUBY ALBUM MARCH 7)  30,170,014   \n",
       "306   307  Nanpa Básico, Kris R. - Cariñitos Y Flores (Of...   4,208,059   \n",
       "672   673  AI-Generated: Learn the Importance of Road Saf...  69,350,734   \n",
       "..    ...                                                ...         ...   \n",
       "814   815                          Fiat 500  vs  Nissan 350z   2,110,577   \n",
       "500   501                      8 Rules of Fight Club Trailer   1,352,408   \n",
       "176   177                                     perfekte welle   2,337,888   \n",
       "516   517                               singing hippopotamus   6,380,182   \n",
       "378   379                                          Boomerang   3,050,764   \n",
       "\n",
       "         Likes Dislikes          Category  published  \n",
       "669     57,629      NaN             Music       2025  \n",
       "33     159,903      NaN             Music       2025  \n",
       "305  1,932,403      NaN             Music       2025  \n",
       "306     63,605      NaN             Music       2025  \n",
       "672    307,889      NaN    People & Blogs       2025  \n",
       "..         ...      ...               ...        ...  \n",
       "814      1,437      146  Autos & Vehicles       2006  \n",
       "500      2,752       97     Entertainment       2006  \n",
       "176      4,430      174               NaN       2005  \n",
       "516      3,440      399            Comedy       2005  \n",
       "378      3,939      290            Comedy       2005  \n",
       "\n",
       "[1000 rows x 7 columns]"
      ]
     },
     "execution_count": 27,
     "metadata": {},
     "output_type": "execute_result"
    }
   ],
   "source": [
    "df.sort_values('published',ascending = False)"
   ]
  },
  {
   "cell_type": "code",
   "execution_count": 28,
   "id": "ccdaa8df-0f1f-44e9-8702-4bd7a41f0ca3",
   "metadata": {},
   "outputs": [
    {
     "data": {
      "text/html": [
       "<div>\n",
       "<style scoped>\n",
       "    .dataframe tbody tr th:only-of-type {\n",
       "        vertical-align: middle;\n",
       "    }\n",
       "\n",
       "    .dataframe tbody tr th {\n",
       "        vertical-align: top;\n",
       "    }\n",
       "\n",
       "    .dataframe thead th {\n",
       "        text-align: right;\n",
       "    }\n",
       "</style>\n",
       "<table border=\"1\" class=\"dataframe\">\n",
       "  <thead>\n",
       "    <tr style=\"text-align: right;\">\n",
       "      <th></th>\n",
       "      <th>rank</th>\n",
       "      <th>Video</th>\n",
       "      <th>Video views</th>\n",
       "      <th>Likes</th>\n",
       "      <th>Dislikes</th>\n",
       "      <th>Category</th>\n",
       "      <th>published</th>\n",
       "    </tr>\n",
       "  </thead>\n",
       "  <tbody>\n",
       "    <tr>\n",
       "      <th>33</th>\n",
       "      <td>34</td>\n",
       "      <td>kwn - worst behaviour (Official Video) ft. Keh...</td>\n",
       "      <td>4,386,564</td>\n",
       "      <td>159,903</td>\n",
       "      <td>NaN</td>\n",
       "      <td>Music</td>\n",
       "      <td>2025</td>\n",
       "    </tr>\n",
       "    <tr>\n",
       "      <th>35</th>\n",
       "      <td>36</td>\n",
       "      <td>Hanumankind - Run It Up ( Prod. By Kalmi ) | (...</td>\n",
       "      <td>28,181,241</td>\n",
       "      <td>1,772,692</td>\n",
       "      <td>NaN</td>\n",
       "      <td>Music</td>\n",
       "      <td>2025</td>\n",
       "    </tr>\n",
       "    <tr>\n",
       "      <th>70</th>\n",
       "      <td>71</td>\n",
       "      <td>7 dia</td>\n",
       "      <td>2,943,159</td>\n",
       "      <td>33,263</td>\n",
       "      <td>NaN</td>\n",
       "      <td>Music</td>\n",
       "      <td>2025</td>\n",
       "    </tr>\n",
       "    <tr>\n",
       "      <th>88</th>\n",
       "      <td>89</td>\n",
       "      <td>Lucio Corsi - Volevo essere un duro (Sanremo 2...</td>\n",
       "      <td>6,016,657</td>\n",
       "      <td>137,088</td>\n",
       "      <td>NaN</td>\n",
       "      <td>Music</td>\n",
       "      <td>2025</td>\n",
       "    </tr>\n",
       "  </tbody>\n",
       "</table>\n",
       "</div>"
      ],
      "text/plain": [
       "    rank                                              Video Video views  \\\n",
       "33    34  kwn - worst behaviour (Official Video) ft. Keh...   4,386,564   \n",
       "35    36  Hanumankind - Run It Up ( Prod. By Kalmi ) | (...  28,181,241   \n",
       "70    71                                              7 dia   2,943,159   \n",
       "88    89  Lucio Corsi - Volevo essere un duro (Sanremo 2...   6,016,657   \n",
       "\n",
       "        Likes Dislikes Category  published  \n",
       "33    159,903      NaN    Music       2025  \n",
       "35  1,772,692      NaN    Music       2025  \n",
       "70     33,263      NaN    Music       2025  \n",
       "88    137,088      NaN    Music       2025  "
      ]
     },
     "execution_count": 28,
     "metadata": {},
     "output_type": "execute_result"
    }
   ],
   "source": [
    "df.nlargest(4,'published')"
   ]
  },
  {
   "cell_type": "code",
   "execution_count": 29,
   "id": "5e8d571f-3803-4816-905c-2606718cb501",
   "metadata": {},
   "outputs": [
    {
     "data": {
      "text/html": [
       "<div>\n",
       "<style scoped>\n",
       "    .dataframe tbody tr th:only-of-type {\n",
       "        vertical-align: middle;\n",
       "    }\n",
       "\n",
       "    .dataframe tbody tr th {\n",
       "        vertical-align: top;\n",
       "    }\n",
       "\n",
       "    .dataframe thead th {\n",
       "        text-align: right;\n",
       "    }\n",
       "</style>\n",
       "<table border=\"1\" class=\"dataframe\">\n",
       "  <thead>\n",
       "    <tr style=\"text-align: right;\">\n",
       "      <th></th>\n",
       "      <th>rank</th>\n",
       "      <th>Video</th>\n",
       "      <th>Video views</th>\n",
       "      <th>Likes</th>\n",
       "      <th>Dislikes</th>\n",
       "      <th>Category</th>\n",
       "      <th>published</th>\n",
       "    </tr>\n",
       "  </thead>\n",
       "  <tbody>\n",
       "    <tr>\n",
       "      <th>176</th>\n",
       "      <td>177</td>\n",
       "      <td>perfekte welle</td>\n",
       "      <td>2,337,888</td>\n",
       "      <td>4,430</td>\n",
       "      <td>174</td>\n",
       "      <td>NaN</td>\n",
       "      <td>2005</td>\n",
       "    </tr>\n",
       "    <tr>\n",
       "      <th>378</th>\n",
       "      <td>379</td>\n",
       "      <td>Boomerang</td>\n",
       "      <td>3,050,764</td>\n",
       "      <td>3,939</td>\n",
       "      <td>290</td>\n",
       "      <td>Comedy</td>\n",
       "      <td>2005</td>\n",
       "    </tr>\n",
       "    <tr>\n",
       "      <th>516</th>\n",
       "      <td>517</td>\n",
       "      <td>singing hippopotamus</td>\n",
       "      <td>6,380,182</td>\n",
       "      <td>3,440</td>\n",
       "      <td>399</td>\n",
       "      <td>Comedy</td>\n",
       "      <td>2005</td>\n",
       "    </tr>\n",
       "    <tr>\n",
       "      <th>36</th>\n",
       "      <td>37</td>\n",
       "      <td>basic instinct</td>\n",
       "      <td>6,484,622</td>\n",
       "      <td>1,102</td>\n",
       "      <td>271</td>\n",
       "      <td>Entertainment</td>\n",
       "      <td>2006</td>\n",
       "    </tr>\n",
       "    <tr>\n",
       "      <th>44</th>\n",
       "      <td>45</td>\n",
       "      <td>Suzuki Hayabusa with Turbo Vmax 390kmh</td>\n",
       "      <td>20,146,924</td>\n",
       "      <td>11,010</td>\n",
       "      <td>1,095</td>\n",
       "      <td>Autos &amp; Vehicles</td>\n",
       "      <td>2006</td>\n",
       "    </tr>\n",
       "    <tr>\n",
       "      <th>65</th>\n",
       "      <td>66</td>\n",
       "      <td>Big nipples</td>\n",
       "      <td>13,591,249</td>\n",
       "      <td>1,951</td>\n",
       "      <td>1,628</td>\n",
       "      <td>Comedy</td>\n",
       "      <td>2006</td>\n",
       "    </tr>\n",
       "    <tr>\n",
       "      <th>106</th>\n",
       "      <td>107</td>\n",
       "      <td>Kobe dunks over Shaq in practice (funny)</td>\n",
       "      <td>12,649,333</td>\n",
       "      <td>4,492</td>\n",
       "      <td>1,247</td>\n",
       "      <td>Sports</td>\n",
       "      <td>2006</td>\n",
       "    </tr>\n",
       "    <tr>\n",
       "      <th>108</th>\n",
       "      <td>109</td>\n",
       "      <td>CRASH-405</td>\n",
       "      <td>2,714,140</td>\n",
       "      <td>376</td>\n",
       "      <td>1,665</td>\n",
       "      <td>Comedy</td>\n",
       "      <td>2006</td>\n",
       "    </tr>\n",
       "    <tr>\n",
       "      <th>114</th>\n",
       "      <td>115</td>\n",
       "      <td>Tenacious D - Explosivo</td>\n",
       "      <td>2,754,518</td>\n",
       "      <td>10,186</td>\n",
       "      <td>204</td>\n",
       "      <td>Entertainment</td>\n",
       "      <td>2006</td>\n",
       "    </tr>\n",
       "    <tr>\n",
       "      <th>141</th>\n",
       "      <td>142</td>\n",
       "      <td>Hot Bikini Waxing Girls!</td>\n",
       "      <td>1,888,388</td>\n",
       "      <td>398</td>\n",
       "      <td>106</td>\n",
       "      <td>People &amp; Blogs</td>\n",
       "      <td>2006</td>\n",
       "    </tr>\n",
       "  </tbody>\n",
       "</table>\n",
       "</div>"
      ],
      "text/plain": [
       "     rank                                     Video Video views   Likes  \\\n",
       "176   177                            perfekte welle   2,337,888   4,430   \n",
       "378   379                                 Boomerang   3,050,764   3,939   \n",
       "516   517                      singing hippopotamus   6,380,182   3,440   \n",
       "36     37                            basic instinct   6,484,622   1,102   \n",
       "44     45    Suzuki Hayabusa with Turbo Vmax 390kmh  20,146,924  11,010   \n",
       "65     66                               Big nipples  13,591,249   1,951   \n",
       "106   107  Kobe dunks over Shaq in practice (funny)  12,649,333   4,492   \n",
       "108   109                                 CRASH-405   2,714,140     376   \n",
       "114   115                   Tenacious D - Explosivo   2,754,518  10,186   \n",
       "141   142                  Hot Bikini Waxing Girls!   1,888,388     398   \n",
       "\n",
       "    Dislikes          Category  published  \n",
       "176      174               NaN       2005  \n",
       "378      290            Comedy       2005  \n",
       "516      399            Comedy       2005  \n",
       "36       271     Entertainment       2006  \n",
       "44     1,095  Autos & Vehicles       2006  \n",
       "65     1,628            Comedy       2006  \n",
       "106    1,247            Sports       2006  \n",
       "108    1,665            Comedy       2006  \n",
       "114      204     Entertainment       2006  \n",
       "141      106    People & Blogs       2006  "
      ]
     },
     "execution_count": 29,
     "metadata": {},
     "output_type": "execute_result"
    }
   ],
   "source": [
    "df.nsmallest(10,'published')"
   ]
  },
  {
   "cell_type": "code",
   "execution_count": 30,
   "id": "d9ad263c-bddc-41fc-99e1-e8e0ceb579fd",
   "metadata": {},
   "outputs": [
    {
     "data": {
      "text/html": [
       "<div>\n",
       "<style scoped>\n",
       "    .dataframe tbody tr th:only-of-type {\n",
       "        vertical-align: middle;\n",
       "    }\n",
       "\n",
       "    .dataframe tbody tr th {\n",
       "        vertical-align: top;\n",
       "    }\n",
       "\n",
       "    .dataframe thead th {\n",
       "        text-align: right;\n",
       "    }\n",
       "</style>\n",
       "<table border=\"1\" class=\"dataframe\">\n",
       "  <thead>\n",
       "    <tr style=\"text-align: right;\">\n",
       "      <th></th>\n",
       "      <th>rank</th>\n",
       "      <th>Video</th>\n",
       "      <th>Video views</th>\n",
       "      <th>Likes</th>\n",
       "      <th>Dislikes</th>\n",
       "      <th>Category</th>\n",
       "      <th>published</th>\n",
       "    </tr>\n",
       "  </thead>\n",
       "  <tbody>\n",
       "  </tbody>\n",
       "</table>\n",
       "</div>"
      ],
      "text/plain": [
       "Empty DataFrame\n",
       "Columns: [rank, Video, Video views, Likes, Dislikes, Category, published]\n",
       "Index: []"
      ]
     },
     "execution_count": 30,
     "metadata": {},
     "output_type": "execute_result"
    }
   ],
   "source": [
    "df[df.published<20]"
   ]
  },
  {
   "cell_type": "code",
   "execution_count": 31,
   "id": "27ac7349-c043-4195-a135-fe95d6fa171d",
   "metadata": {},
   "outputs": [
    {
     "data": {
      "text/html": [
       "<div>\n",
       "<style scoped>\n",
       "    .dataframe tbody tr th:only-of-type {\n",
       "        vertical-align: middle;\n",
       "    }\n",
       "\n",
       "    .dataframe tbody tr th {\n",
       "        vertical-align: top;\n",
       "    }\n",
       "\n",
       "    .dataframe thead th {\n",
       "        text-align: right;\n",
       "    }\n",
       "</style>\n",
       "<table border=\"1\" class=\"dataframe\">\n",
       "  <thead>\n",
       "    <tr style=\"text-align: right;\">\n",
       "      <th></th>\n",
       "      <th>rank</th>\n",
       "      <th>Video</th>\n",
       "      <th>Video views</th>\n",
       "      <th>Likes</th>\n",
       "      <th>Dislikes</th>\n",
       "      <th>Category</th>\n",
       "      <th>published</th>\n",
       "    </tr>\n",
       "  </thead>\n",
       "  <tbody>\n",
       "    <tr>\n",
       "      <th>0</th>\n",
       "      <td>1</td>\n",
       "      <td>20 Tennis shots if they were not filmed, NOBOD...</td>\n",
       "      <td>3,471,237</td>\n",
       "      <td>19,023</td>\n",
       "      <td>859</td>\n",
       "      <td>NaN</td>\n",
       "      <td>2017</td>\n",
       "    </tr>\n",
       "    <tr>\n",
       "      <th>1</th>\n",
       "      <td>2</td>\n",
       "      <td>Lil Nas X - Old Town Road (Official Movie) ft....</td>\n",
       "      <td>54,071,677</td>\n",
       "      <td>3,497,955</td>\n",
       "      <td>78,799</td>\n",
       "      <td>Music</td>\n",
       "      <td>2019</td>\n",
       "    </tr>\n",
       "    <tr>\n",
       "      <th>2</th>\n",
       "      <td>3</td>\n",
       "      <td>JoJo Siwa - Karma (Official Video)</td>\n",
       "      <td>34,206,747</td>\n",
       "      <td>293,563</td>\n",
       "      <td>NaN</td>\n",
       "      <td>Music</td>\n",
       "      <td>2024</td>\n",
       "    </tr>\n",
       "    <tr>\n",
       "      <th>3</th>\n",
       "      <td>4</td>\n",
       "      <td>Wiz Khalifa - See You Again ft. Charlie Puth [...</td>\n",
       "      <td>6,643,904,918</td>\n",
       "      <td>44,861,602</td>\n",
       "      <td>NaN</td>\n",
       "      <td>Music</td>\n",
       "      <td>2015</td>\n",
       "    </tr>\n",
       "    <tr>\n",
       "      <th>4</th>\n",
       "      <td>5</td>\n",
       "      <td>伊賀の天然水強炭酸水「家族で、シュワシェア。」篇　15秒</td>\n",
       "      <td>236,085,971</td>\n",
       "      <td>38</td>\n",
       "      <td>NaN</td>\n",
       "      <td>NaN</td>\n",
       "      <td>2021</td>\n",
       "    </tr>\n",
       "    <tr>\n",
       "      <th>...</th>\n",
       "      <td>...</td>\n",
       "      <td>...</td>\n",
       "      <td>...</td>\n",
       "      <td>...</td>\n",
       "      <td>...</td>\n",
       "      <td>...</td>\n",
       "      <td>...</td>\n",
       "    </tr>\n",
       "    <tr>\n",
       "      <th>995</th>\n",
       "      <td>996</td>\n",
       "      <td>CALIFORNIA - MONDAY JUSTICE FEAT. SNOOP DOGG (...</td>\n",
       "      <td>943,248</td>\n",
       "      <td>2,949</td>\n",
       "      <td>22</td>\n",
       "      <td>Music</td>\n",
       "      <td>2017</td>\n",
       "    </tr>\n",
       "    <tr>\n",
       "      <th>996</th>\n",
       "      <td>997</td>\n",
       "      <td>John McEnroe's most famous outburst happened i...</td>\n",
       "      <td>4,853,621</td>\n",
       "      <td>7,254</td>\n",
       "      <td>426</td>\n",
       "      <td>Sports</td>\n",
       "      <td>2010</td>\n",
       "    </tr>\n",
       "    <tr>\n",
       "      <th>997</th>\n",
       "      <td>998</td>\n",
       "      <td>Adi Golan's Group - Teaser</td>\n",
       "      <td>56,578</td>\n",
       "      <td>NaN</td>\n",
       "      <td>NaN</td>\n",
       "      <td>Music</td>\n",
       "      <td>2014</td>\n",
       "    </tr>\n",
       "    <tr>\n",
       "      <th>998</th>\n",
       "      <td>999</td>\n",
       "      <td>Keg tapping goes horribly wrong.</td>\n",
       "      <td>751,804</td>\n",
       "      <td>3,427</td>\n",
       "      <td>313</td>\n",
       "      <td>Entertainment</td>\n",
       "      <td>2017</td>\n",
       "    </tr>\n",
       "    <tr>\n",
       "      <th>999</th>\n",
       "      <td>1000</td>\n",
       "      <td>LIVE Hurricane Irma - Downtown Orlando - Ameri...</td>\n",
       "      <td>554,438</td>\n",
       "      <td>184</td>\n",
       "      <td>8</td>\n",
       "      <td>News &amp; Politics</td>\n",
       "      <td>2016</td>\n",
       "    </tr>\n",
       "  </tbody>\n",
       "</table>\n",
       "<p>1000 rows × 7 columns</p>\n",
       "</div>"
      ],
      "text/plain": [
       "     rank                                              Video    Video views  \\\n",
       "0       1  20 Tennis shots if they were not filmed, NOBOD...      3,471,237   \n",
       "1       2  Lil Nas X - Old Town Road (Official Movie) ft....     54,071,677   \n",
       "2       3                 JoJo Siwa - Karma (Official Video)     34,206,747   \n",
       "3       4  Wiz Khalifa - See You Again ft. Charlie Puth [...  6,643,904,918   \n",
       "4       5                       伊賀の天然水強炭酸水「家族で、シュワシェア。」篇　15秒    236,085,971   \n",
       "..    ...                                                ...            ...   \n",
       "995   996  CALIFORNIA - MONDAY JUSTICE FEAT. SNOOP DOGG (...        943,248   \n",
       "996   997  John McEnroe's most famous outburst happened i...      4,853,621   \n",
       "997   998                         Adi Golan's Group - Teaser         56,578   \n",
       "998   999                   Keg tapping goes horribly wrong.        751,804   \n",
       "999  1000  LIVE Hurricane Irma - Downtown Orlando - Ameri...        554,438   \n",
       "\n",
       "          Likes Dislikes         Category  published  \n",
       "0        19,023      859              NaN       2017  \n",
       "1     3,497,955   78,799            Music       2019  \n",
       "2       293,563      NaN            Music       2024  \n",
       "3    44,861,602      NaN            Music       2015  \n",
       "4            38      NaN              NaN       2021  \n",
       "..          ...      ...              ...        ...  \n",
       "995       2,949       22            Music       2017  \n",
       "996       7,254      426           Sports       2010  \n",
       "997         NaN      NaN            Music       2014  \n",
       "998       3,427      313    Entertainment       2017  \n",
       "999         184        8  News & Politics       2016  \n",
       "\n",
       "[1000 rows x 7 columns]"
      ]
     },
     "execution_count": 31,
     "metadata": {},
     "output_type": "execute_result"
    }
   ],
   "source": [
    "df[df.published>80]"
   ]
  },
  {
   "cell_type": "code",
   "execution_count": 32,
   "id": "b6b3ce0a-0fcc-46c0-8b5e-5df322cdce5f",
   "metadata": {},
   "outputs": [
    {
     "data": {
      "text/plain": [
       "Series([], Name: published, dtype: int64)"
      ]
     },
     "execution_count": 32,
     "metadata": {},
     "output_type": "execute_result"
    }
   ],
   "source": [
    "df['published'][(df.published > 30) & (df.published<40)]"
   ]
  },
  {
   "cell_type": "code",
   "execution_count": 33,
   "id": "7c3d5be8-f9d6-46f5-8ab0-e523ba06b892",
   "metadata": {},
   "outputs": [
    {
     "data": {
      "text/plain": [
       "0                  NaN\n",
       "1                Music\n",
       "2                Music\n",
       "3                Music\n",
       "4                  NaN\n",
       "            ...       \n",
       "995              Music\n",
       "996             Sports\n",
       "997              Music\n",
       "998      Entertainment\n",
       "999    News & Politics\n",
       "Name: Category, Length: 1000, dtype: object"
      ]
     },
     "execution_count": 33,
     "metadata": {},
     "output_type": "execute_result"
    }
   ],
   "source": [
    "df['Category'].where(df['published'] > 70)"
   ]
  },
  {
   "cell_type": "markdown",
   "id": "a75da608-1c83-4d2c-adca-aae7bf2f0555",
   "metadata": {},
   "source": [
    "### EDA-3: statistical analysis of dataset"
   ]
  },
  {
   "cell_type": "code",
   "execution_count": 34,
   "id": "d2b563ee-84d5-42d1-a8bd-ee1981af155d",
   "metadata": {},
   "outputs": [
    {
     "data": {
      "text/plain": [
       "500500"
      ]
     },
     "execution_count": 34,
     "metadata": {},
     "output_type": "execute_result"
    }
   ],
   "source": [
    "df['rank'].sum()"
   ]
  },
  {
   "cell_type": "code",
   "execution_count": 35,
   "id": "cd6bbab0-1ed5-47a0-a55e-e9352e358612",
   "metadata": {},
   "outputs": [
    {
     "data": {
      "text/plain": [
       "2015.933"
      ]
     },
     "execution_count": 35,
     "metadata": {},
     "output_type": "execute_result"
    }
   ],
   "source": [
    "df['published'].mean()"
   ]
  },
  {
   "cell_type": "code",
   "execution_count": 36,
   "id": "7657532a-537f-4506-a051-da40ecd8ecab",
   "metadata": {},
   "outputs": [
    {
     "data": {
      "text/plain": [
       "1"
      ]
     },
     "execution_count": 36,
     "metadata": {},
     "output_type": "execute_result"
    }
   ],
   "source": [
    "df['rank'].min()"
   ]
  },
  {
   "cell_type": "code",
   "execution_count": 37,
   "id": "c41a659c-bf4b-40ac-bbe0-bf5643354ba7",
   "metadata": {},
   "outputs": [
    {
     "data": {
      "text/plain": [
       "2025"
      ]
     },
     "execution_count": 37,
     "metadata": {},
     "output_type": "execute_result"
    }
   ],
   "source": [
    "df['published'].max()"
   ]
  },
  {
   "cell_type": "code",
   "execution_count": 38,
   "id": "d0f9cea9-1267-40e5-afe9-2ead299cd2da",
   "metadata": {},
   "outputs": [
    {
     "data": {
      "text/plain": [
       "500.5"
      ]
     },
     "execution_count": 38,
     "metadata": {},
     "output_type": "execute_result"
    }
   ],
   "source": [
    "df['rank'].median()"
   ]
  },
  {
   "cell_type": "code",
   "execution_count": 39,
   "id": "1d407c57-0e89-4d74-9d7d-a6e94c07aa8e",
   "metadata": {},
   "outputs": [
    {
     "data": {
      "text/plain": [
       "0    2017\n",
       "Name: published, dtype: int64"
      ]
     },
     "execution_count": 39,
     "metadata": {},
     "output_type": "execute_result"
    }
   ],
   "source": [
    "df['published'].mode()"
   ]
  },
  {
   "cell_type": "code",
   "execution_count": 40,
   "id": "8a6d746c-d0d4-428d-af3f-a7d3170de1a9",
   "metadata": {},
   "outputs": [
    {
     "data": {
      "text/plain": [
       "0    Music\n",
       "Name: Category, dtype: object"
      ]
     },
     "execution_count": 40,
     "metadata": {},
     "output_type": "execute_result"
    }
   ],
   "source": [
    "df['Category'].mode()"
   ]
  },
  {
   "cell_type": "code",
   "execution_count": 41,
   "id": "c1977700-bf10-472c-a25a-6182728b4fc5",
   "metadata": {},
   "outputs": [
    {
     "data": {
      "text/plain": [
       "array([nan, 'Music', 'Entertainment', 'Sports', 'Comedy',\n",
       "       'People & Blogs', 'Gaming', 'Pets & Animals', 'Autos & Vehicles',\n",
       "       'Education', 'Film & Animation', 'News & Politics',\n",
       "       'Howto & Style', 'Travel & Events', 'Nonprofits & Activism',\n",
       "       'Science & Technology'], dtype=object)"
      ]
     },
     "execution_count": 41,
     "metadata": {},
     "output_type": "execute_result"
    }
   ],
   "source": [
    "df['Category'].unique()"
   ]
  },
  {
   "cell_type": "code",
   "execution_count": 42,
   "id": "84ffe436-1632-49fe-a931-d76f7be5f4c1",
   "metadata": {},
   "outputs": [
    {
     "data": {
      "text/plain": [
       "973"
      ]
     },
     "execution_count": 42,
     "metadata": {},
     "output_type": "execute_result"
    }
   ],
   "source": [
    "df['Likes'].count()"
   ]
  },
  {
   "cell_type": "code",
   "execution_count": 43,
   "id": "2a92ef38-ea8f-4d9b-a2ff-426f0f0b917e",
   "metadata": {},
   "outputs": [
    {
     "data": {
      "text/html": [
       "<div>\n",
       "<style scoped>\n",
       "    .dataframe tbody tr th:only-of-type {\n",
       "        vertical-align: middle;\n",
       "    }\n",
       "\n",
       "    .dataframe tbody tr th {\n",
       "        vertical-align: top;\n",
       "    }\n",
       "\n",
       "    .dataframe thead th {\n",
       "        text-align: right;\n",
       "    }\n",
       "</style>\n",
       "<table border=\"1\" class=\"dataframe\">\n",
       "  <thead>\n",
       "    <tr style=\"text-align: right;\">\n",
       "      <th></th>\n",
       "      <th>rank</th>\n",
       "      <th>Video</th>\n",
       "      <th>Video views</th>\n",
       "      <th>Likes</th>\n",
       "      <th>Category</th>\n",
       "      <th>published</th>\n",
       "    </tr>\n",
       "    <tr>\n",
       "      <th>Dislikes</th>\n",
       "      <th></th>\n",
       "      <th></th>\n",
       "      <th></th>\n",
       "      <th></th>\n",
       "      <th></th>\n",
       "      <th></th>\n",
       "    </tr>\n",
       "  </thead>\n",
       "  <tbody>\n",
       "    <tr>\n",
       "      <th>0</th>\n",
       "      <td>33</td>\n",
       "      <td>33</td>\n",
       "      <td>33</td>\n",
       "      <td>33</td>\n",
       "      <td>15</td>\n",
       "      <td>33</td>\n",
       "    </tr>\n",
       "    <tr>\n",
       "      <th>1</th>\n",
       "      <td>15</td>\n",
       "      <td>15</td>\n",
       "      <td>15</td>\n",
       "      <td>15</td>\n",
       "      <td>0</td>\n",
       "      <td>15</td>\n",
       "    </tr>\n",
       "    <tr>\n",
       "      <th>1,006</th>\n",
       "      <td>2</td>\n",
       "      <td>2</td>\n",
       "      <td>2</td>\n",
       "      <td>2</td>\n",
       "      <td>2</td>\n",
       "      <td>2</td>\n",
       "    </tr>\n",
       "    <tr>\n",
       "      <th>1,023</th>\n",
       "      <td>1</td>\n",
       "      <td>1</td>\n",
       "      <td>1</td>\n",
       "      <td>1</td>\n",
       "      <td>1</td>\n",
       "      <td>1</td>\n",
       "    </tr>\n",
       "    <tr>\n",
       "      <th>1,029</th>\n",
       "      <td>1</td>\n",
       "      <td>1</td>\n",
       "      <td>1</td>\n",
       "      <td>1</td>\n",
       "      <td>1</td>\n",
       "      <td>1</td>\n",
       "    </tr>\n",
       "    <tr>\n",
       "      <th>...</th>\n",
       "      <td>...</td>\n",
       "      <td>...</td>\n",
       "      <td>...</td>\n",
       "      <td>...</td>\n",
       "      <td>...</td>\n",
       "      <td>...</td>\n",
       "    </tr>\n",
       "    <tr>\n",
       "      <th>96</th>\n",
       "      <td>2</td>\n",
       "      <td>2</td>\n",
       "      <td>2</td>\n",
       "      <td>2</td>\n",
       "      <td>2</td>\n",
       "      <td>2</td>\n",
       "    </tr>\n",
       "    <tr>\n",
       "      <th>97</th>\n",
       "      <td>2</td>\n",
       "      <td>2</td>\n",
       "      <td>2</td>\n",
       "      <td>2</td>\n",
       "      <td>2</td>\n",
       "      <td>2</td>\n",
       "    </tr>\n",
       "    <tr>\n",
       "      <th>985</th>\n",
       "      <td>1</td>\n",
       "      <td>1</td>\n",
       "      <td>1</td>\n",
       "      <td>1</td>\n",
       "      <td>1</td>\n",
       "      <td>1</td>\n",
       "    </tr>\n",
       "    <tr>\n",
       "      <th>989</th>\n",
       "      <td>1</td>\n",
       "      <td>1</td>\n",
       "      <td>1</td>\n",
       "      <td>1</td>\n",
       "      <td>1</td>\n",
       "      <td>1</td>\n",
       "    </tr>\n",
       "    <tr>\n",
       "      <th>991</th>\n",
       "      <td>1</td>\n",
       "      <td>1</td>\n",
       "      <td>1</td>\n",
       "      <td>1</td>\n",
       "      <td>1</td>\n",
       "      <td>1</td>\n",
       "    </tr>\n",
       "  </tbody>\n",
       "</table>\n",
       "<p>489 rows × 6 columns</p>\n",
       "</div>"
      ],
      "text/plain": [
       "          rank  Video  Video views  Likes  Category  published\n",
       "Dislikes                                                      \n",
       "0           33     33           33     33        15         33\n",
       "1           15     15           15     15         0         15\n",
       "1,006        2      2            2      2         2          2\n",
       "1,023        1      1            1      1         1          1\n",
       "1,029        1      1            1      1         1          1\n",
       "...        ...    ...          ...    ...       ...        ...\n",
       "96           2      2            2      2         2          2\n",
       "97           2      2            2      2         2          2\n",
       "985          1      1            1      1         1          1\n",
       "989          1      1            1      1         1          1\n",
       "991          1      1            1      1         1          1\n",
       "\n",
       "[489 rows x 6 columns]"
      ]
     },
     "execution_count": 43,
     "metadata": {},
     "output_type": "execute_result"
    }
   ],
   "source": [
    "df.groupby('Dislikes').count()"
   ]
  },
  {
   "cell_type": "code",
   "execution_count": 44,
   "id": "851125d4-6ebf-4f75-ace8-2c09e4ccd3aa",
   "metadata": {},
   "outputs": [
    {
     "data": {
      "text/plain": [
       "6.054846998246307"
      ]
     },
     "execution_count": 44,
     "metadata": {},
     "output_type": "execute_result"
    }
   ],
   "source": [
    "df['published'].std()"
   ]
  },
  {
   "cell_type": "code",
   "execution_count": 45,
   "id": "96d0d315-e834-4180-a0da-1dd6248ba708",
   "metadata": {},
   "outputs": [
    {
     "data": {
      "text/html": [
       "<div>\n",
       "<style scoped>\n",
       "    .dataframe tbody tr th:only-of-type {\n",
       "        vertical-align: middle;\n",
       "    }\n",
       "\n",
       "    .dataframe tbody tr th {\n",
       "        vertical-align: top;\n",
       "    }\n",
       "\n",
       "    .dataframe thead th {\n",
       "        text-align: right;\n",
       "    }\n",
       "</style>\n",
       "<table border=\"1\" class=\"dataframe\">\n",
       "  <thead>\n",
       "    <tr style=\"text-align: right;\">\n",
       "      <th></th>\n",
       "      <th>rank</th>\n",
       "      <th>published</th>\n",
       "    </tr>\n",
       "  </thead>\n",
       "  <tbody>\n",
       "    <tr>\n",
       "      <th>rank</th>\n",
       "      <td>83416.666667</td>\n",
       "      <td>-18.590090</td>\n",
       "    </tr>\n",
       "    <tr>\n",
       "      <th>published</th>\n",
       "      <td>-18.590090</td>\n",
       "      <td>36.661172</td>\n",
       "    </tr>\n",
       "  </tbody>\n",
       "</table>\n",
       "</div>"
      ],
      "text/plain": [
       "                   rank  published\n",
       "rank       83416.666667 -18.590090\n",
       "published    -18.590090  36.661172"
      ]
     },
     "execution_count": 45,
     "metadata": {},
     "output_type": "execute_result"
    }
   ],
   "source": [
    "df[['rank', 'published']].cov()"
   ]
  },
  {
   "cell_type": "code",
   "execution_count": 46,
   "id": "383b4f6d-afa8-4588-8486-bcbea42c0813",
   "metadata": {},
   "outputs": [
    {
     "data": {
      "text/html": [
       "<div>\n",
       "<style scoped>\n",
       "    .dataframe tbody tr th:only-of-type {\n",
       "        vertical-align: middle;\n",
       "    }\n",
       "\n",
       "    .dataframe tbody tr th {\n",
       "        vertical-align: top;\n",
       "    }\n",
       "\n",
       "    .dataframe thead th {\n",
       "        text-align: right;\n",
       "    }\n",
       "</style>\n",
       "<table border=\"1\" class=\"dataframe\">\n",
       "  <thead>\n",
       "    <tr style=\"text-align: right;\">\n",
       "      <th></th>\n",
       "      <th>rank</th>\n",
       "      <th>published</th>\n",
       "    </tr>\n",
       "  </thead>\n",
       "  <tbody>\n",
       "    <tr>\n",
       "      <th>rank</th>\n",
       "      <td>1.00000</td>\n",
       "      <td>-0.01063</td>\n",
       "    </tr>\n",
       "    <tr>\n",
       "      <th>published</th>\n",
       "      <td>-0.01063</td>\n",
       "      <td>1.00000</td>\n",
       "    </tr>\n",
       "  </tbody>\n",
       "</table>\n",
       "</div>"
      ],
      "text/plain": [
       "              rank  published\n",
       "rank       1.00000   -0.01063\n",
       "published -0.01063    1.00000"
      ]
     },
     "execution_count": 46,
     "metadata": {},
     "output_type": "execute_result"
    }
   ],
   "source": [
    "df[['rank', 'published']].corr()"
   ]
  },
  {
   "cell_type": "code",
   "execution_count": 47,
   "id": "d56ab2c1-ed83-4280-9519-f6175a266999",
   "metadata": {},
   "outputs": [
    {
     "data": {
      "text/html": [
       "<div>\n",
       "<style scoped>\n",
       "    .dataframe tbody tr th:only-of-type {\n",
       "        vertical-align: middle;\n",
       "    }\n",
       "\n",
       "    .dataframe tbody tr th {\n",
       "        vertical-align: top;\n",
       "    }\n",
       "\n",
       "    .dataframe thead th {\n",
       "        text-align: right;\n",
       "    }\n",
       "</style>\n",
       "<table border=\"1\" class=\"dataframe\">\n",
       "  <thead>\n",
       "    <tr style=\"text-align: right;\">\n",
       "      <th></th>\n",
       "      <th>rank</th>\n",
       "      <th>published</th>\n",
       "    </tr>\n",
       "  </thead>\n",
       "  <tbody>\n",
       "    <tr>\n",
       "      <th>rank</th>\n",
       "      <td>1.00000</td>\n",
       "      <td>-0.01063</td>\n",
       "    </tr>\n",
       "    <tr>\n",
       "      <th>published</th>\n",
       "      <td>-0.01063</td>\n",
       "      <td>1.00000</td>\n",
       "    </tr>\n",
       "  </tbody>\n",
       "</table>\n",
       "</div>"
      ],
      "text/plain": [
       "              rank  published\n",
       "rank       1.00000   -0.01063\n",
       "published -0.01063    1.00000"
      ]
     },
     "execution_count": 47,
     "metadata": {},
     "output_type": "execute_result"
    }
   ],
   "source": [
    "corr_matrix = df[['rank', 'published']].corr()\n",
    "corr_matrix"
   ]
  },
  {
   "cell_type": "code",
   "execution_count": 48,
   "id": "d7046b2d-0403-4b0d-8a63-54fd53c3c16f",
   "metadata": {},
   "outputs": [
    {
     "data": {
      "text/plain": [
       "<Axes: >"
      ]
     },
     "execution_count": 48,
     "metadata": {},
     "output_type": "execute_result"
    },
    {
     "data": {
      "image/png": "[encoded data removed]",
      "text/plain": [
       "<Figure size 640x480 with 2 Axes>"
      ]
     },
     "metadata": {},
     "output_type": "display_data"
    }
   ],
   "source": [
    "sns.heatmap(corr_matrix, cmap = \"coolwarm\", annot = True, fmt = \"2f\")"
   ]
  },
  {
   "cell_type": "markdown",
   "id": "3e3be331-a13f-4a48-9e60-91f6c0442a24",
   "metadata": {},
   "source": [
    "# Correlation\n",
    "Type of correlation\n",
    "1. Perason coorelation : Linear relationship\n",
    "2. Spearman coorelation : nom linear relationship\n",
    "Person correlation\n",
    "1. PC method measure strength and direction of a \"linear\" relationship\n",
    "2. PC is used data is normally distributed\n"
   ]
  },
  {
   "cell_type": "markdown",
   "id": "4193aa3d-8560-4653-b2e4-4398b9ebac45",
   "metadata": {},
   "source": [
    "## Person correlation\n",
    "#### 1. PC method measure strength and direction of a \"linear\" relationship\n",
    "\n",
    "#### 2. PC is used data is normally distributed\n"
   ]
  },
  {
   "cell_type": "code",
   "execution_count": 49,
   "id": "cc094fdd-0ef7-4dcf-8007-77a166d2ffc3",
   "metadata": {},
   "outputs": [
    {
     "data": {
      "text/html": [
       "<div>\n",
       "<style scoped>\n",
       "    .dataframe tbody tr th:only-of-type {\n",
       "        vertical-align: middle;\n",
       "    }\n",
       "\n",
       "    .dataframe tbody tr th {\n",
       "        vertical-align: top;\n",
       "    }\n",
       "\n",
       "    .dataframe thead th {\n",
       "        text-align: right;\n",
       "    }\n",
       "</style>\n",
       "<table border=\"1\" class=\"dataframe\">\n",
       "  <thead>\n",
       "    <tr style=\"text-align: right;\">\n",
       "      <th></th>\n",
       "      <th>rank</th>\n",
       "      <th>Video</th>\n",
       "      <th>Video views</th>\n",
       "      <th>Likes</th>\n",
       "      <th>Dislikes</th>\n",
       "      <th>Category</th>\n",
       "      <th>published</th>\n",
       "    </tr>\n",
       "  </thead>\n",
       "  <tbody>\n",
       "    <tr>\n",
       "      <th>0</th>\n",
       "      <td>1</td>\n",
       "      <td>20 Tennis shots if they were not filmed, NOBOD...</td>\n",
       "      <td>3,471,237</td>\n",
       "      <td>19,023</td>\n",
       "      <td>859</td>\n",
       "      <td>NaN</td>\n",
       "      <td>2017</td>\n",
       "    </tr>\n",
       "    <tr>\n",
       "      <th>1</th>\n",
       "      <td>2</td>\n",
       "      <td>Lil Nas X - Old Town Road (Official Movie) ft....</td>\n",
       "      <td>54,071,677</td>\n",
       "      <td>3,497,955</td>\n",
       "      <td>78,799</td>\n",
       "      <td>Music</td>\n",
       "      <td>2019</td>\n",
       "    </tr>\n",
       "    <tr>\n",
       "      <th>2</th>\n",
       "      <td>3</td>\n",
       "      <td>JoJo Siwa - Karma (Official Video)</td>\n",
       "      <td>34,206,747</td>\n",
       "      <td>293,563</td>\n",
       "      <td>NaN</td>\n",
       "      <td>Music</td>\n",
       "      <td>2024</td>\n",
       "    </tr>\n",
       "    <tr>\n",
       "      <th>3</th>\n",
       "      <td>4</td>\n",
       "      <td>Wiz Khalifa - See You Again ft. Charlie Puth [...</td>\n",
       "      <td>6,643,904,918</td>\n",
       "      <td>44,861,602</td>\n",
       "      <td>NaN</td>\n",
       "      <td>Music</td>\n",
       "      <td>2015</td>\n",
       "    </tr>\n",
       "    <tr>\n",
       "      <th>4</th>\n",
       "      <td>5</td>\n",
       "      <td>伊賀の天然水強炭酸水「家族で、シュワシェア。」篇　15秒</td>\n",
       "      <td>236,085,971</td>\n",
       "      <td>38</td>\n",
       "      <td>NaN</td>\n",
       "      <td>NaN</td>\n",
       "      <td>2021</td>\n",
       "    </tr>\n",
       "    <tr>\n",
       "      <th>...</th>\n",
       "      <td>...</td>\n",
       "      <td>...</td>\n",
       "      <td>...</td>\n",
       "      <td>...</td>\n",
       "      <td>...</td>\n",
       "      <td>...</td>\n",
       "      <td>...</td>\n",
       "    </tr>\n",
       "    <tr>\n",
       "      <th>995</th>\n",
       "      <td>996</td>\n",
       "      <td>CALIFORNIA - MONDAY JUSTICE FEAT. SNOOP DOGG (...</td>\n",
       "      <td>943,248</td>\n",
       "      <td>2,949</td>\n",
       "      <td>22</td>\n",
       "      <td>Music</td>\n",
       "      <td>2017</td>\n",
       "    </tr>\n",
       "    <tr>\n",
       "      <th>996</th>\n",
       "      <td>997</td>\n",
       "      <td>John McEnroe's most famous outburst happened i...</td>\n",
       "      <td>4,853,621</td>\n",
       "      <td>7,254</td>\n",
       "      <td>426</td>\n",
       "      <td>Sports</td>\n",
       "      <td>2010</td>\n",
       "    </tr>\n",
       "    <tr>\n",
       "      <th>997</th>\n",
       "      <td>998</td>\n",
       "      <td>Adi Golan's Group - Teaser</td>\n",
       "      <td>56,578</td>\n",
       "      <td>NaN</td>\n",
       "      <td>NaN</td>\n",
       "      <td>Music</td>\n",
       "      <td>2014</td>\n",
       "    </tr>\n",
       "    <tr>\n",
       "      <th>998</th>\n",
       "      <td>999</td>\n",
       "      <td>Keg tapping goes horribly wrong.</td>\n",
       "      <td>751,804</td>\n",
       "      <td>3,427</td>\n",
       "      <td>313</td>\n",
       "      <td>Entertainment</td>\n",
       "      <td>2017</td>\n",
       "    </tr>\n",
       "    <tr>\n",
       "      <th>999</th>\n",
       "      <td>1000</td>\n",
       "      <td>LIVE Hurricane Irma - Downtown Orlando - Ameri...</td>\n",
       "      <td>554,438</td>\n",
       "      <td>184</td>\n",
       "      <td>8</td>\n",
       "      <td>News &amp; Politics</td>\n",
       "      <td>2016</td>\n",
       "    </tr>\n",
       "  </tbody>\n",
       "</table>\n",
       "<p>1000 rows × 7 columns</p>\n",
       "</div>"
      ],
      "text/plain": [
       "     rank                                              Video    Video views  \\\n",
       "0       1  20 Tennis shots if they were not filmed, NOBOD...      3,471,237   \n",
       "1       2  Lil Nas X - Old Town Road (Official Movie) ft....     54,071,677   \n",
       "2       3                 JoJo Siwa - Karma (Official Video)     34,206,747   \n",
       "3       4  Wiz Khalifa - See You Again ft. Charlie Puth [...  6,643,904,918   \n",
       "4       5                       伊賀の天然水強炭酸水「家族で、シュワシェア。」篇　15秒    236,085,971   \n",
       "..    ...                                                ...            ...   \n",
       "995   996  CALIFORNIA - MONDAY JUSTICE FEAT. SNOOP DOGG (...        943,248   \n",
       "996   997  John McEnroe's most famous outburst happened i...      4,853,621   \n",
       "997   998                         Adi Golan's Group - Teaser         56,578   \n",
       "998   999                   Keg tapping goes horribly wrong.        751,804   \n",
       "999  1000  LIVE Hurricane Irma - Downtown Orlando - Ameri...        554,438   \n",
       "\n",
       "          Likes Dislikes         Category  published  \n",
       "0        19,023      859              NaN       2017  \n",
       "1     3,497,955   78,799            Music       2019  \n",
       "2       293,563      NaN            Music       2024  \n",
       "3    44,861,602      NaN            Music       2015  \n",
       "4            38      NaN              NaN       2021  \n",
       "..          ...      ...              ...        ...  \n",
       "995       2,949       22            Music       2017  \n",
       "996       7,254      426           Sports       2010  \n",
       "997         NaN      NaN            Music       2014  \n",
       "998       3,427      313    Entertainment       2017  \n",
       "999         184        8  News & Politics       2016  \n",
       "\n",
       "[1000 rows x 7 columns]"
      ]
     },
     "execution_count": 49,
     "metadata": {},
     "output_type": "execute_result"
    }
   ],
   "source": [
    "df"
   ]
  },
  {
   "cell_type": "code",
   "execution_count": 50,
   "id": "ddf0cf3e-7123-4e42-8eb0-d1165948d381",
   "metadata": {},
   "outputs": [
    {
     "data": {
      "text/html": [
       "<div>\n",
       "<style scoped>\n",
       "    .dataframe tbody tr th:only-of-type {\n",
       "        vertical-align: middle;\n",
       "    }\n",
       "\n",
       "    .dataframe tbody tr th {\n",
       "        vertical-align: top;\n",
       "    }\n",
       "\n",
       "    .dataframe thead th {\n",
       "        text-align: right;\n",
       "    }\n",
       "</style>\n",
       "<table border=\"1\" class=\"dataframe\">\n",
       "  <thead>\n",
       "    <tr style=\"text-align: right;\">\n",
       "      <th></th>\n",
       "      <th>rank</th>\n",
       "      <th>published</th>\n",
       "    </tr>\n",
       "  </thead>\n",
       "  <tbody>\n",
       "    <tr>\n",
       "      <th>rank</th>\n",
       "      <td>1.00000</td>\n",
       "      <td>-0.01063</td>\n",
       "    </tr>\n",
       "    <tr>\n",
       "      <th>published</th>\n",
       "      <td>-0.01063</td>\n",
       "      <td>1.00000</td>\n",
       "    </tr>\n",
       "  </tbody>\n",
       "</table>\n",
       "</div>"
      ],
      "text/plain": [
       "              rank  published\n",
       "rank       1.00000   -0.01063\n",
       "published -0.01063    1.00000"
      ]
     },
     "execution_count": 50,
     "metadata": {},
     "output_type": "execute_result"
    }
   ],
   "source": [
    "df[[\"rank\",\"published\"]].corr(method = \"pearson\")"
   ]
  },
  {
   "cell_type": "code",
   "execution_count": 51,
   "id": "4d96961e-8a5d-46c2-a1be-89034913e84b",
   "metadata": {},
   "outputs": [
    {
     "data": {
      "text/html": [
       "<div>\n",
       "<style scoped>\n",
       "    .dataframe tbody tr th:only-of-type {\n",
       "        vertical-align: middle;\n",
       "    }\n",
       "\n",
       "    .dataframe tbody tr th {\n",
       "        vertical-align: top;\n",
       "    }\n",
       "\n",
       "    .dataframe thead th {\n",
       "        text-align: right;\n",
       "    }\n",
       "</style>\n",
       "<table border=\"1\" class=\"dataframe\">\n",
       "  <thead>\n",
       "    <tr style=\"text-align: right;\">\n",
       "      <th></th>\n",
       "      <th>rank</th>\n",
       "      <th>published</th>\n",
       "    </tr>\n",
       "  </thead>\n",
       "  <tbody>\n",
       "    <tr>\n",
       "      <th>rank</th>\n",
       "      <td>1.000000</td>\n",
       "      <td>-0.018441</td>\n",
       "    </tr>\n",
       "    <tr>\n",
       "      <th>published</th>\n",
       "      <td>-0.018441</td>\n",
       "      <td>1.000000</td>\n",
       "    </tr>\n",
       "  </tbody>\n",
       "</table>\n",
       "</div>"
      ],
      "text/plain": [
       "               rank  published\n",
       "rank       1.000000  -0.018441\n",
       "published -0.018441   1.000000"
      ]
     },
     "execution_count": 51,
     "metadata": {},
     "output_type": "execute_result"
    }
   ],
   "source": [
    "df[[\"rank\",\"published\"]].corr(method = \"spearman\")"
   ]
  },
  {
   "cell_type": "markdown",
   "id": "b5d7ec21-e1bd-4e8c-9115-26c281414b49",
   "metadata": {},
   "source": [
    "### To print the (seaborn library)scatterplot of Likes and Video views\n"
   ]
  },
  {
   "cell_type": "code",
   "execution_count": 52,
   "id": "1c51ffbc-d313-4e44-a313-3011ebbe66be",
   "metadata": {},
   "outputs": [
    {
     "data": {
      "text/plain": [
       "<Axes: xlabel='Likes', ylabel='Dislikes'>"
      ]
     },
     "execution_count": 52,
     "metadata": {},
     "output_type": "execute_result"
    },
    {
     "data": {
      "image/png": "[encoded data removed]",
      "text/plain": [
       "<Figure size 640x480 with 1 Axes>"
      ]
     },
     "metadata": {},
     "output_type": "display_data"
    }
   ],
   "source": [
    "import seaborn as sns\n",
    "sns.scatterplot(x = \"Likes\" , y = \"Dislikes\",data = df)"
   ]
  },
  {
   "cell_type": "markdown",
   "id": "4671907e-9438-4c99-9988-fddb380b61bc",
   "metadata": {},
   "source": [
    "### EDA-4: Identify NAN/NULL Values"
   ]
  },
  {
   "cell_type": "code",
   "execution_count": 53,
   "id": "be6115ef-289b-48ec-ab91-479b3e2581c5",
   "metadata": {},
   "outputs": [
    {
     "data": {
      "text/plain": [
       "rank             0\n",
       "Video            0\n",
       "Video views      0\n",
       "Likes           27\n",
       "Dislikes       313\n",
       "Category       180\n",
       "published        0\n",
       "dtype: int64"
      ]
     },
     "execution_count": 53,
     "metadata": {},
     "output_type": "execute_result"
    }
   ],
   "source": [
    "df.isnull().sum()"
   ]
  },
  {
   "cell_type": "markdown",
   "id": "ef5c665a-6f89-41f1-8fac-ab9f02288f3b",
   "metadata": {},
   "source": [
    "### Approach-1 : Delete the records or columns with null values"
   ]
  },
  {
   "cell_type": "markdown",
   "id": "2aba1e27-561e-429b-ac01-ca94bac151e5",
   "metadata": {},
   "source": [
    "### when null values are very low as compare to number of total records\n",
    "### delete the column when more than 70% of the data is null values"
   ]
  },
  {
   "cell_type": "code",
   "execution_count": 54,
   "id": "6ff1fbd7-ee79-44e5-9c94-6e6f93777999",
   "metadata": {},
   "outputs": [
    {
     "data": {
      "text/html": [
       "<div>\n",
       "<style scoped>\n",
       "    .dataframe tbody tr th:only-of-type {\n",
       "        vertical-align: middle;\n",
       "    }\n",
       "\n",
       "    .dataframe tbody tr th {\n",
       "        vertical-align: top;\n",
       "    }\n",
       "\n",
       "    .dataframe thead th {\n",
       "        text-align: right;\n",
       "    }\n",
       "</style>\n",
       "<table border=\"1\" class=\"dataframe\">\n",
       "  <thead>\n",
       "    <tr style=\"text-align: right;\">\n",
       "      <th></th>\n",
       "      <th>rank</th>\n",
       "      <th>Video</th>\n",
       "      <th>Video views</th>\n",
       "      <th>Likes</th>\n",
       "      <th>Dislikes</th>\n",
       "      <th>Category</th>\n",
       "      <th>published</th>\n",
       "    </tr>\n",
       "  </thead>\n",
       "  <tbody>\n",
       "    <tr>\n",
       "      <th>1</th>\n",
       "      <td>2</td>\n",
       "      <td>Lil Nas X - Old Town Road (Official Movie) ft....</td>\n",
       "      <td>54,071,677</td>\n",
       "      <td>3,497,955</td>\n",
       "      <td>78,799</td>\n",
       "      <td>Music</td>\n",
       "      <td>2019</td>\n",
       "    </tr>\n",
       "    <tr>\n",
       "      <th>5</th>\n",
       "      <td>6</td>\n",
       "      <td>JP Saxe - If the World Was Ending (Official Vi...</td>\n",
       "      <td>76,834,495</td>\n",
       "      <td>804,353</td>\n",
       "      <td>21,195</td>\n",
       "      <td>Music</td>\n",
       "      <td>2019</td>\n",
       "    </tr>\n",
       "    <tr>\n",
       "      <th>7</th>\n",
       "      <td>8</td>\n",
       "      <td>Power Star Pawan Kalyan Special Surprise To Se...</td>\n",
       "      <td>96,686</td>\n",
       "      <td>1,007</td>\n",
       "      <td>82</td>\n",
       "      <td>Entertainment</td>\n",
       "      <td>2018</td>\n",
       "    </tr>\n",
       "    <tr>\n",
       "      <th>9</th>\n",
       "      <td>10</td>\n",
       "      <td>Totti with a funny penalty</td>\n",
       "      <td>8,353,318</td>\n",
       "      <td>5,613</td>\n",
       "      <td>1,082</td>\n",
       "      <td>Sports</td>\n",
       "      <td>2007</td>\n",
       "    </tr>\n",
       "    <tr>\n",
       "      <th>11</th>\n",
       "      <td>12</td>\n",
       "      <td>Polo G, Stunna 4 Vegas &amp; NLE Choppa feat. Mike...</td>\n",
       "      <td>7,396,199</td>\n",
       "      <td>320,910</td>\n",
       "      <td>6,485</td>\n",
       "      <td>Music</td>\n",
       "      <td>2020</td>\n",
       "    </tr>\n",
       "    <tr>\n",
       "      <th>...</th>\n",
       "      <td>...</td>\n",
       "      <td>...</td>\n",
       "      <td>...</td>\n",
       "      <td>...</td>\n",
       "      <td>...</td>\n",
       "      <td>...</td>\n",
       "      <td>...</td>\n",
       "    </tr>\n",
       "    <tr>\n",
       "      <th>994</th>\n",
       "      <td>995</td>\n",
       "      <td>UltraTap - новости из соцсетей</td>\n",
       "      <td>498,038</td>\n",
       "      <td>706</td>\n",
       "      <td>1,533</td>\n",
       "      <td>People &amp; Blogs</td>\n",
       "      <td>2017</td>\n",
       "    </tr>\n",
       "    <tr>\n",
       "      <th>995</th>\n",
       "      <td>996</td>\n",
       "      <td>CALIFORNIA - MONDAY JUSTICE FEAT. SNOOP DOGG (...</td>\n",
       "      <td>943,248</td>\n",
       "      <td>2,949</td>\n",
       "      <td>22</td>\n",
       "      <td>Music</td>\n",
       "      <td>2017</td>\n",
       "    </tr>\n",
       "    <tr>\n",
       "      <th>996</th>\n",
       "      <td>997</td>\n",
       "      <td>John McEnroe's most famous outburst happened i...</td>\n",
       "      <td>4,853,621</td>\n",
       "      <td>7,254</td>\n",
       "      <td>426</td>\n",
       "      <td>Sports</td>\n",
       "      <td>2010</td>\n",
       "    </tr>\n",
       "    <tr>\n",
       "      <th>998</th>\n",
       "      <td>999</td>\n",
       "      <td>Keg tapping goes horribly wrong.</td>\n",
       "      <td>751,804</td>\n",
       "      <td>3,427</td>\n",
       "      <td>313</td>\n",
       "      <td>Entertainment</td>\n",
       "      <td>2017</td>\n",
       "    </tr>\n",
       "    <tr>\n",
       "      <th>999</th>\n",
       "      <td>1000</td>\n",
       "      <td>LIVE Hurricane Irma - Downtown Orlando - Ameri...</td>\n",
       "      <td>554,438</td>\n",
       "      <td>184</td>\n",
       "      <td>8</td>\n",
       "      <td>News &amp; Politics</td>\n",
       "      <td>2016</td>\n",
       "    </tr>\n",
       "  </tbody>\n",
       "</table>\n",
       "<p>604 rows × 7 columns</p>\n",
       "</div>"
      ],
      "text/plain": [
       "     rank                                              Video Video views  \\\n",
       "1       2  Lil Nas X - Old Town Road (Official Movie) ft....  54,071,677   \n",
       "5       6  JP Saxe - If the World Was Ending (Official Vi...  76,834,495   \n",
       "7       8  Power Star Pawan Kalyan Special Surprise To Se...      96,686   \n",
       "9      10                         Totti with a funny penalty   8,353,318   \n",
       "11     12  Polo G, Stunna 4 Vegas & NLE Choppa feat. Mike...   7,396,199   \n",
       "..    ...                                                ...         ...   \n",
       "994   995                     UltraTap - новости из соцсетей     498,038   \n",
       "995   996  CALIFORNIA - MONDAY JUSTICE FEAT. SNOOP DOGG (...     943,248   \n",
       "996   997  John McEnroe's most famous outburst happened i...   4,853,621   \n",
       "998   999                   Keg tapping goes horribly wrong.     751,804   \n",
       "999  1000  LIVE Hurricane Irma - Downtown Orlando - Ameri...     554,438   \n",
       "\n",
       "         Likes Dislikes         Category  published  \n",
       "1    3,497,955   78,799            Music       2019  \n",
       "5      804,353   21,195            Music       2019  \n",
       "7        1,007       82    Entertainment       2018  \n",
       "9        5,613    1,082           Sports       2007  \n",
       "11     320,910    6,485            Music       2020  \n",
       "..         ...      ...              ...        ...  \n",
       "994        706    1,533   People & Blogs       2017  \n",
       "995      2,949       22            Music       2017  \n",
       "996      7,254      426           Sports       2010  \n",
       "998      3,427      313    Entertainment       2017  \n",
       "999        184        8  News & Politics       2016  \n",
       "\n",
       "[604 rows x 7 columns]"
      ]
     },
     "execution_count": 54,
     "metadata": {},
     "output_type": "execute_result"
    }
   ],
   "source": [
    "df1 = df.copy()\n",
    "df1.dropna(inplace = False)"
   ]
  },
  {
   "cell_type": "code",
   "execution_count": 55,
   "id": "79b81b1c-6565-4b51-8f5d-3fecc361d1a4",
   "metadata": {},
   "outputs": [
    {
     "data": {
      "text/plain": [
       "rank             0\n",
       "Video            0\n",
       "Video views      0\n",
       "Likes           27\n",
       "Dislikes       313\n",
       "Category       180\n",
       "published        0\n",
       "dtype: int64"
      ]
     },
     "execution_count": 55,
     "metadata": {},
     "output_type": "execute_result"
    }
   ],
   "source": [
    "df1.isnull().sum()"
   ]
  },
  {
   "cell_type": "code",
   "execution_count": 56,
   "id": "28a6883c-967a-4069-925d-b82b4478b856",
   "metadata": {},
   "outputs": [
    {
     "data": {
      "text/plain": [
       "(1000, 7)"
      ]
     },
     "execution_count": 56,
     "metadata": {},
     "output_type": "execute_result"
    }
   ],
   "source": [
    "df.shape"
   ]
  },
  {
   "cell_type": "code",
   "execution_count": 57,
   "id": "391b4196-b551-48fd-bc99-b5b30755d897",
   "metadata": {},
   "outputs": [],
   "source": [
    "df2 = df.copy()\n",
    "df2.dropna(axis = 1,inplace = True)"
   ]
  },
  {
   "cell_type": "code",
   "execution_count": 58,
   "id": "97dc812c-4b14-41da-87b0-e25538476faf",
   "metadata": {},
   "outputs": [
    {
     "data": {
      "text/plain": [
       "Index(['rank', 'Video', 'Video views', 'published'], dtype='object')"
      ]
     },
     "execution_count": 58,
     "metadata": {},
     "output_type": "execute_result"
    }
   ],
   "source": [
    "df2.columns"
   ]
  },
  {
   "cell_type": "code",
   "execution_count": 59,
   "id": "0312232a-b5cc-47a6-a4a6-f0867f8997f0",
   "metadata": {},
   "outputs": [],
   "source": [
    "df3 = df.copy()"
   ]
  },
  {
   "cell_type": "code",
   "execution_count": 60,
   "id": "d1cbfd77-b70e-4cd0-8422-143ce1f8c093",
   "metadata": {},
   "outputs": [
    {
     "data": {
      "text/plain": [
       "0"
      ]
     },
     "execution_count": 60,
     "metadata": {},
     "output_type": "execute_result"
    }
   ],
   "source": [
    "null_percentage = df3.published.isnull().sum() / len(df3)\n",
    "if null_percentage > 0.70:\n",
    "    df3.dropna(axis = 1,inplace = True)\n",
    "df3.published.isnull().sum()   "
   ]
  },
  {
   "cell_type": "markdown",
   "id": "4e3b775e-1c0d-4938-a311-e94867b75761",
   "metadata": {},
   "source": [
    "## Approach-2 : fill sum value in place of null"
   ]
  },
  {
   "cell_type": "markdown",
   "id": "6688b2a1-5564-46d9-be1b-a678e4c896ee",
   "metadata": {},
   "source": [
    " ### 2.1 fill the constant value in place of null\n"
   ]
  },
  {
   "cell_type": "markdown",
   "id": "8d6b94ac-5a83-4d45-9ff5-9c8eceee51ef",
   "metadata": {},
   "source": [
    "## filling constant value¶"
   ]
  },
  {
   "cell_type": "code",
   "execution_count": 61,
   "id": "e4821412-dbbf-49ee-9384-c70236d04e10",
   "metadata": {},
   "outputs": [],
   "source": [
    "df4 = df.copy()"
   ]
  },
  {
   "cell_type": "code",
   "execution_count": 62,
   "id": "bdf61afa-e1e0-4229-b41d-d4aa1755015b",
   "metadata": {},
   "outputs": [
    {
     "data": {
      "text/plain": [
       "Index(['rank', 'Video', 'Video views', 'Likes', 'Dislikes', 'Category',\n",
       "       'published'],\n",
       "      dtype='object')"
      ]
     },
     "execution_count": 62,
     "metadata": {},
     "output_type": "execute_result"
    }
   ],
   "source": [
    "df.columns"
   ]
  },
  {
   "cell_type": "code",
   "execution_count": 63,
   "id": "c6dd7c61-d216-4b0a-8e9f-fcd6abba323d",
   "metadata": {},
   "outputs": [],
   "source": [
    "df4.loc[(df4.published >30) & (df4.published <= 40),\"published\"] = np.nan"
   ]
  },
  {
   "cell_type": "code",
   "execution_count": 64,
   "id": "413c6087-a25f-47db-960b-470e05b5a948",
   "metadata": {},
   "outputs": [
    {
     "data": {
      "text/plain": [
       "rank             0\n",
       "Video            0\n",
       "Video views      0\n",
       "Likes           27\n",
       "Dislikes       313\n",
       "Category       180\n",
       "published        0\n",
       "dtype: int64"
      ]
     },
     "execution_count": 64,
     "metadata": {},
     "output_type": "execute_result"
    }
   ],
   "source": [
    "df4.isnull().sum()"
   ]
  },
  {
   "cell_type": "code",
   "execution_count": 65,
   "id": "1d30a6c1-99ed-454f-bbdc-b01f4099c5ff",
   "metadata": {},
   "outputs": [],
   "source": [
    "df4 = df4.published.fillna(\"35\")\n"
   ]
  },
  {
   "cell_type": "code",
   "execution_count": 66,
   "id": "459f7564-ef50-47eb-9845-907acd68e1be",
   "metadata": {},
   "outputs": [
    {
     "data": {
      "text/plain": [
       "0"
      ]
     },
     "execution_count": 66,
     "metadata": {},
     "output_type": "execute_result"
    }
   ],
   "source": [
    "df4.isnull().sum()"
   ]
  },
  {
   "cell_type": "code",
   "execution_count": 67,
   "id": "fca0dc25-93f9-4672-8687-76622a252c0f",
   "metadata": {},
   "outputs": [
    {
     "name": "stdout",
     "output_type": "stream",
     "text": [
      "<class 'pandas.core.series.Series'>\n",
      "RangeIndex: 1000 entries, 0 to 999\n",
      "Series name: published\n",
      "Non-Null Count  Dtype  \n",
      "--------------  -----  \n",
      "1000 non-null   float64\n",
      "dtypes: float64(1)\n",
      "memory usage: 7.9 KB\n"
     ]
    }
   ],
   "source": [
    "df4.info()"
   ]
  },
  {
   "cell_type": "markdown",
   "id": "d49b2ab9-f1be-4e7f-beb3-448d8bf2fe8b",
   "metadata": {},
   "source": [
    "### 2.2 Filling Mean, Median and mode\n"
   ]
  },
  {
   "cell_type": "code",
   "execution_count": 68,
   "id": "7729f10e-7de8-4b4f-b434-7d3b89d1859f",
   "metadata": {},
   "outputs": [
    {
     "data": {
      "text/plain": [
       "rank             0\n",
       "Video            0\n",
       "Video views      0\n",
       "Likes           27\n",
       "Dislikes       313\n",
       "Category       180\n",
       "published        0\n",
       "dtype: int64"
      ]
     },
     "execution_count": 68,
     "metadata": {},
     "output_type": "execute_result"
    }
   ],
   "source": [
    "df4 = df.copy()\n",
    "\n",
    "# creating dummy null values\n",
    "df4.loc[(df4.published >30) & (df4.published <= 40), 'published'] = np.nan\n",
    "\n",
    "df4.isnull().sum()"
   ]
  },
  {
   "cell_type": "code",
   "execution_count": 69,
   "id": "dc9ac4da-daa0-420c-91be-aad4acc3a9ac",
   "metadata": {},
   "outputs": [
    {
     "data": {
      "text/plain": [
       "2015.933"
      ]
     },
     "execution_count": 69,
     "metadata": {},
     "output_type": "execute_result"
    }
   ],
   "source": [
    "mean_value = df4.published.mean()\n",
    "\n",
    "mean_value"
   ]
  },
  {
   "cell_type": "code",
   "execution_count": 70,
   "id": "252f21bd-142e-45bb-bb0f-e1c3f380a004",
   "metadata": {},
   "outputs": [
    {
     "data": {
      "text/plain": [
       "rank             0\n",
       "Video            0\n",
       "Video views      0\n",
       "Likes           27\n",
       "Dislikes       313\n",
       "Category       180\n",
       "published        0\n",
       "dtype: int64"
      ]
     },
     "execution_count": 70,
     "metadata": {},
     "output_type": "execute_result"
    }
   ],
   "source": [
    "df4['published'] = df4.published.fillna(mean_value)\n",
    "df4.isnull().sum()"
   ]
  },
  {
   "cell_type": "code",
   "execution_count": 71,
   "id": "9540bb17-6c99-437d-8588-52940bd3a367",
   "metadata": {},
   "outputs": [
    {
     "name": "stdout",
     "output_type": "stream",
     "text": [
      "<class 'str'>\n"
     ]
    }
   ],
   "source": [
    "mode_value = df4.published.mode()\n",
    "print(type('mode_value'))"
   ]
  },
  {
   "cell_type": "code",
   "execution_count": 72,
   "id": "82ed4dd8-321c-4e12-a930-5b7e13dd211c",
   "metadata": {},
   "outputs": [
    {
     "name": "stdout",
     "output_type": "stream",
     "text": [
      "<class 'pandas.core.series.Series'>\n"
     ]
    }
   ],
   "source": [
    "mode_value = df4.published.mode()\n",
    "print(type(mode_value))"
   ]
  },
  {
   "cell_type": "code",
   "execution_count": 73,
   "id": "2c5c91c8-202a-4999-8be9-a36708c3bf14",
   "metadata": {},
   "outputs": [
    {
     "data": {
      "text/plain": [
       "rank             0\n",
       "Video            0\n",
       "Video views      0\n",
       "Likes           27\n",
       "Dislikes         0\n",
       "Category       180\n",
       "published        0\n",
       "dtype: int64"
      ]
     },
     "execution_count": 73,
     "metadata": {},
     "output_type": "execute_result"
    }
   ],
   "source": [
    "df4['Dislikes'] = df4.Dislikes.fillna('mode_value')\n",
    "df4.isnull().sum()"
   ]
  },
  {
   "cell_type": "markdown",
   "id": "1539869f-3f2b-41a5-be9d-33c5f7311aad",
   "metadata": {},
   "source": [
    "### Approach-3 : bfill/ffill methods"
   ]
  },
  {
   "cell_type": "markdown",
   "id": "e458cb94-efba-4114-927d-61d3cfd744cc",
   "metadata": {},
   "source": [
    "### bfill(Backward fill) propagates the next valid value backward to fill Null value\n",
    "\n",
    "### ffill(forward fill) propagates the previous valid value forward to fill Null value\n",
    "\n",
    "### examples of bfill & ffill :-\n",
    "\n",
    "### ffill : 10 20 15 25 25 -- -- 30 21 21 40\n",
    "### bfill : 10 20 15 25 -- -- -- -- -- 30 21 21 -- -- -- 40¶\n"
   ]
  },
  {
   "cell_type": "code",
   "execution_count": 74,
   "id": "fc6f347a-73cf-4900-8522-045400c6d0ec",
   "metadata": {},
   "outputs": [],
   "source": [
    "df6 = df.copy()"
   ]
  },
  {
   "cell_type": "code",
   "execution_count": 75,
   "id": "4a8ff0f8-71c6-4c1f-b3d8-7b27d381ea87",
   "metadata": {},
   "outputs": [
    {
     "data": {
      "text/plain": [
       "rank             0\n",
       "Video            0\n",
       "Video views      0\n",
       "Likes           27\n",
       "Dislikes       313\n",
       "Category       180\n",
       "published        0\n",
       "dtype: int64"
      ]
     },
     "execution_count": 75,
     "metadata": {},
     "output_type": "execute_result"
    }
   ],
   "source": [
    "df6.isnull().sum()"
   ]
  },
  {
   "cell_type": "code",
   "execution_count": 76,
   "id": "8c03b4ca-6b2c-4c9a-9ab2-ec020094af5d",
   "metadata": {},
   "outputs": [],
   "source": [
    "df6 = df6.ffill()"
   ]
  },
  {
   "cell_type": "code",
   "execution_count": 77,
   "id": "6b0ccfc5-0104-44a8-8ed9-d254eabfa77b",
   "metadata": {},
   "outputs": [
    {
     "data": {
      "text/plain": [
       "rank           0\n",
       "Video          0\n",
       "Video views    0\n",
       "Likes          0\n",
       "Dislikes       0\n",
       "Category       1\n",
       "published      0\n",
       "dtype: int64"
      ]
     },
     "execution_count": 77,
     "metadata": {},
     "output_type": "execute_result"
    }
   ],
   "source": [
    "df6.isnull().sum()"
   ]
  },
  {
   "cell_type": "code",
   "execution_count": 78,
   "id": "0f055a5c-b008-438f-9dfb-9b66ca45a22c",
   "metadata": {},
   "outputs": [],
   "source": [
    "df6= df6.bfill()"
   ]
  },
  {
   "cell_type": "code",
   "execution_count": 79,
   "id": "27febfdd-1482-4dd4-b42b-89bdb6d21f2c",
   "metadata": {},
   "outputs": [
    {
     "data": {
      "text/plain": [
       "rank           0\n",
       "Video          0\n",
       "Video views    0\n",
       "Likes          0\n",
       "Dislikes       0\n",
       "Category       0\n",
       "published      0\n",
       "dtype: int64"
      ]
     },
     "execution_count": 79,
     "metadata": {},
     "output_type": "execute_result"
    }
   ],
   "source": [
    "df6.isnull().sum()"
   ]
  },
  {
   "cell_type": "code",
   "execution_count": 80,
   "id": "6adfd143-b203-446c-ac6d-b57cc75532fc",
   "metadata": {},
   "outputs": [],
   "source": [
    "df7 = df.copy()\n",
    "df7['published'] = df7.published.bfill()"
   ]
  },
  {
   "cell_type": "code",
   "execution_count": 81,
   "id": "9159e41d-c3fe-48e0-8ae8-a2452072496e",
   "metadata": {},
   "outputs": [
    {
     "data": {
      "text/plain": [
       "rank             0\n",
       "Video            0\n",
       "Video views      0\n",
       "Likes           27\n",
       "Dislikes       313\n",
       "Category       180\n",
       "published        0\n",
       "dtype: int64"
      ]
     },
     "execution_count": 81,
     "metadata": {},
     "output_type": "execute_result"
    }
   ],
   "source": [
    "df7.isnull().sum()"
   ]
  },
  {
   "cell_type": "markdown",
   "id": "2ae089eb-cad7-40da-9e97-f30afa083692",
   "metadata": {},
   "source": [
    "### Appraoch-4 : interpolate: Estimate missing data point in a continuous series"
   ]
  },
  {
   "cell_type": "code",
   "execution_count": 82,
   "id": "433f9914-ec8b-4ee1-9831-013a3a2b6a60",
   "metadata": {},
   "outputs": [
    {
     "data": {
      "text/plain": [
       "rank             0\n",
       "Video            0\n",
       "Video views      0\n",
       "Likes           27\n",
       "Dislikes       313\n",
       "Category       180\n",
       "published        0\n",
       "dtype: int64"
      ]
     },
     "execution_count": 82,
     "metadata": {},
     "output_type": "execute_result"
    }
   ],
   "source": [
    "df7 = df.copy()\n",
    "\n",
    "df7.loc[(df7.published > 35) & (df7.published <= 40), 'rank'] = np.nan\n",
    "\n",
    "df7.isnull().sum()"
   ]
  },
  {
   "cell_type": "code",
   "execution_count": 83,
   "id": "8d37238b-2c48-4cb3-a64d-5c3232c17954",
   "metadata": {},
   "outputs": [
    {
     "data": {
      "text/plain": [
       "rank             0\n",
       "Video            0\n",
       "Video views      0\n",
       "Likes           27\n",
       "Dislikes       313\n",
       "Category       180\n",
       "published        0\n",
       "dtype: int64"
      ]
     },
     "execution_count": 83,
     "metadata": {},
     "output_type": "execute_result"
    }
   ],
   "source": [
    "df7['published'] = df7.published.interpolate(method = 'linear')\n",
    "df7.isnull().sum()"
   ]
  },
  {
   "cell_type": "code",
   "execution_count": 84,
   "id": "d39fc95a-f4fc-4cb8-9057-70450a2cb286",
   "metadata": {},
   "outputs": [
    {
     "data": {
      "text/plain": [
       "rank             0\n",
       "Video            0\n",
       "Video views      0\n",
       "Likes           27\n",
       "Dislikes       313\n",
       "Category       180\n",
       "published        0\n",
       "dtype: int64"
      ]
     },
     "execution_count": 84,
     "metadata": {},
     "output_type": "execute_result"
    }
   ],
   "source": [
    "df7['published'] = df7.published.interpolate(method = 'polynomial',order = 5)\n",
    "df7.isnull().sum()"
   ]
  },
  {
   "cell_type": "code",
   "execution_count": 85,
   "id": "8123bc0c-39b8-460d-966c-a90cceb9cb19",
   "metadata": {},
   "outputs": [
    {
     "data": {
      "text/plain": [
       "rank             0\n",
       "Video            0\n",
       "Video views      0\n",
       "Likes           27\n",
       "Dislikes       313\n",
       "Category       180\n",
       "published        0\n",
       "dtype: int64"
      ]
     },
     "execution_count": 85,
     "metadata": {},
     "output_type": "execute_result"
    }
   ],
   "source": [
    "df7['published'] = df7.published.interpolate(method = 'spline', order = 5)\n",
    "df7.isnull().sum()"
   ]
  },
  {
   "cell_type": "markdown",
   "id": "d0f35566-4e06-4135-952b-3fe318036ff1",
   "metadata": {},
   "source": [
    "# EDA-5 Identifying Duplicate value"
   ]
  },
  {
   "cell_type": "code",
   "execution_count": 86,
   "id": "bc395f8a-8ef0-414b-9441-973c36fe26ac",
   "metadata": {},
   "outputs": [],
   "source": [
    "df8 = df.copy()"
   ]
  },
  {
   "cell_type": "code",
   "execution_count": 87,
   "id": "071abcdc-659e-4884-9180-00412892fc36",
   "metadata": {},
   "outputs": [
    {
     "data": {
      "text/plain": [
       "0"
      ]
     },
     "execution_count": 87,
     "metadata": {},
     "output_type": "execute_result"
    }
   ],
   "source": [
    "df8.duplicated().sum()"
   ]
  },
  {
   "cell_type": "code",
   "execution_count": 88,
   "id": "1462df67-f6bf-422f-84db-87bbcc5d34c4",
   "metadata": {},
   "outputs": [
    {
     "data": {
      "text/html": [
       "<div>\n",
       "<style scoped>\n",
       "    .dataframe tbody tr th:only-of-type {\n",
       "        vertical-align: middle;\n",
       "    }\n",
       "\n",
       "    .dataframe tbody tr th {\n",
       "        vertical-align: top;\n",
       "    }\n",
       "\n",
       "    .dataframe thead th {\n",
       "        text-align: right;\n",
       "    }\n",
       "</style>\n",
       "<table border=\"1\" class=\"dataframe\">\n",
       "  <thead>\n",
       "    <tr style=\"text-align: right;\">\n",
       "      <th></th>\n",
       "      <th>rank</th>\n",
       "      <th>Video</th>\n",
       "      <th>Video views</th>\n",
       "      <th>Likes</th>\n",
       "      <th>Dislikes</th>\n",
       "      <th>Category</th>\n",
       "      <th>published</th>\n",
       "    </tr>\n",
       "  </thead>\n",
       "  <tbody>\n",
       "  </tbody>\n",
       "</table>\n",
       "</div>"
      ],
      "text/plain": [
       "Empty DataFrame\n",
       "Columns: [rank, Video, Video views, Likes, Dislikes, Category, published]\n",
       "Index: []"
      ]
     },
     "execution_count": 88,
     "metadata": {},
     "output_type": "execute_result"
    }
   ],
   "source": [
    "df8[df8.duplicated()]"
   ]
  },
  {
   "cell_type": "code",
   "execution_count": 89,
   "id": "ac2ba194-ff2c-4cf1-b671-03a3d5b1c73f",
   "metadata": {},
   "outputs": [
    {
     "data": {
      "text/html": [
       "<div>\n",
       "<style scoped>\n",
       "    .dataframe tbody tr th:only-of-type {\n",
       "        vertical-align: middle;\n",
       "    }\n",
       "\n",
       "    .dataframe tbody tr th {\n",
       "        vertical-align: top;\n",
       "    }\n",
       "\n",
       "    .dataframe thead th {\n",
       "        text-align: right;\n",
       "    }\n",
       "</style>\n",
       "<table border=\"1\" class=\"dataframe\">\n",
       "  <thead>\n",
       "    <tr style=\"text-align: right;\">\n",
       "      <th></th>\n",
       "      <th>rank</th>\n",
       "      <th>Video</th>\n",
       "      <th>Video views</th>\n",
       "      <th>Likes</th>\n",
       "      <th>Dislikes</th>\n",
       "      <th>Category</th>\n",
       "      <th>published</th>\n",
       "    </tr>\n",
       "  </thead>\n",
       "  <tbody>\n",
       "  </tbody>\n",
       "</table>\n",
       "</div>"
      ],
      "text/plain": [
       "Empty DataFrame\n",
       "Columns: [rank, Video, Video views, Likes, Dislikes, Category, published]\n",
       "Index: []"
      ]
     },
     "execution_count": 89,
     "metadata": {},
     "output_type": "execute_result"
    }
   ],
   "source": [
    "df8[df8.duplicated(keep = False)]"
   ]
  },
  {
   "cell_type": "code",
   "execution_count": 90,
   "id": "65adf767-55b6-4a51-9a5f-9145d57fa5ce",
   "metadata": {},
   "outputs": [
    {
     "data": {
      "text/html": [
       "<div>\n",
       "<style scoped>\n",
       "    .dataframe tbody tr th:only-of-type {\n",
       "        vertical-align: middle;\n",
       "    }\n",
       "\n",
       "    .dataframe tbody tr th {\n",
       "        vertical-align: top;\n",
       "    }\n",
       "\n",
       "    .dataframe thead th {\n",
       "        text-align: right;\n",
       "    }\n",
       "</style>\n",
       "<table border=\"1\" class=\"dataframe\">\n",
       "  <thead>\n",
       "    <tr style=\"text-align: right;\">\n",
       "      <th></th>\n",
       "      <th>rank</th>\n",
       "      <th>Video</th>\n",
       "      <th>Video views</th>\n",
       "      <th>Likes</th>\n",
       "      <th>Dislikes</th>\n",
       "      <th>Category</th>\n",
       "      <th>published</th>\n",
       "    </tr>\n",
       "  </thead>\n",
       "  <tbody>\n",
       "  </tbody>\n",
       "</table>\n",
       "</div>"
      ],
      "text/plain": [
       "Empty DataFrame\n",
       "Columns: [rank, Video, Video views, Likes, Dislikes, Category, published]\n",
       "Index: []"
      ]
     },
     "execution_count": 90,
     "metadata": {},
     "output_type": "execute_result"
    }
   ],
   "source": [
    "df8[df8.duplicated(keep = \"first\")]"
   ]
  },
  {
   "cell_type": "code",
   "execution_count": 91,
   "id": "8797edff-0bbe-4d26-8834-d78809e32ac3",
   "metadata": {},
   "outputs": [
    {
     "data": {
      "text/html": [
       "<div>\n",
       "<style scoped>\n",
       "    .dataframe tbody tr th:only-of-type {\n",
       "        vertical-align: middle;\n",
       "    }\n",
       "\n",
       "    .dataframe tbody tr th {\n",
       "        vertical-align: top;\n",
       "    }\n",
       "\n",
       "    .dataframe thead th {\n",
       "        text-align: right;\n",
       "    }\n",
       "</style>\n",
       "<table border=\"1\" class=\"dataframe\">\n",
       "  <thead>\n",
       "    <tr style=\"text-align: right;\">\n",
       "      <th></th>\n",
       "      <th>rank</th>\n",
       "      <th>Video</th>\n",
       "      <th>Video views</th>\n",
       "      <th>Likes</th>\n",
       "      <th>Dislikes</th>\n",
       "      <th>Category</th>\n",
       "      <th>published</th>\n",
       "    </tr>\n",
       "  </thead>\n",
       "  <tbody>\n",
       "  </tbody>\n",
       "</table>\n",
       "</div>"
      ],
      "text/plain": [
       "Empty DataFrame\n",
       "Columns: [rank, Video, Video views, Likes, Dislikes, Category, published]\n",
       "Index: []"
      ]
     },
     "execution_count": 91,
     "metadata": {},
     "output_type": "execute_result"
    }
   ],
   "source": [
    "df8[df8.duplicated(keep = \"last\")]"
   ]
  },
  {
   "cell_type": "code",
   "execution_count": 92,
   "id": "4178c480-e330-4f33-a21e-f10fb78651cd",
   "metadata": {},
   "outputs": [
    {
     "data": {
      "text/plain": [
       "rank           0\n",
       "Video          0\n",
       "Video views    0\n",
       "Likes          0\n",
       "Dislikes       0\n",
       "Category       0\n",
       "published      0\n",
       "dtype: int64"
      ]
     },
     "execution_count": 92,
     "metadata": {},
     "output_type": "execute_result"
    }
   ],
   "source": [
    "df8[df8.duplicated(keep = False)].count()"
   ]
  },
  {
   "cell_type": "markdown",
   "id": "3f2b2ef8-d0a4-497a-b2c9-bbeb9299f79e",
   "metadata": {},
   "source": [
    "# Data cleaning : Drop the dupilcate records"
   ]
  },
  {
   "cell_type": "code",
   "execution_count": 93,
   "id": "9f3699f8-e6ee-41eb-8979-5a48e44ff1ca",
   "metadata": {},
   "outputs": [
    {
     "data": {
      "text/plain": [
       "(1000, 7)"
      ]
     },
     "execution_count": 93,
     "metadata": {},
     "output_type": "execute_result"
    }
   ],
   "source": [
    "df.shape"
   ]
  },
  {
   "cell_type": "code",
   "execution_count": 94,
   "id": "2183911e-fd85-450f-86c7-da5d5ac72669",
   "metadata": {},
   "outputs": [],
   "source": [
    "df9 = df.copy()"
   ]
  },
  {
   "cell_type": "code",
   "execution_count": 95,
   "id": "644a5d23-8e9e-465e-8074-8e8e71c4046a",
   "metadata": {},
   "outputs": [],
   "source": [
    "df9.drop_duplicates(inplace = True , keep = False)"
   ]
  },
  {
   "cell_type": "code",
   "execution_count": 96,
   "id": "b917b374-b8a9-47fd-b039-fcfcfa1ae8f7",
   "metadata": {},
   "outputs": [],
   "source": [
    "df9.drop_duplicates(inplace = True, keep = \"last\")\n"
   ]
  },
  {
   "cell_type": "code",
   "execution_count": 97,
   "id": "c2b1906b-dd00-4893-bc10-0016463884d6",
   "metadata": {},
   "outputs": [
    {
     "data": {
      "text/plain": [
       "(1000, 7)"
      ]
     },
     "execution_count": 97,
     "metadata": {},
     "output_type": "execute_result"
    }
   ],
   "source": [
    "df.shape"
   ]
  },
  {
   "cell_type": "code",
   "execution_count": 98,
   "id": "0139683f-c075-4399-8b58-88bd84f5100d",
   "metadata": {},
   "outputs": [
    {
     "data": {
      "text/html": [
       "<div>\n",
       "<style scoped>\n",
       "    .dataframe tbody tr th:only-of-type {\n",
       "        vertical-align: middle;\n",
       "    }\n",
       "\n",
       "    .dataframe tbody tr th {\n",
       "        vertical-align: top;\n",
       "    }\n",
       "\n",
       "    .dataframe thead th {\n",
       "        text-align: right;\n",
       "    }\n",
       "</style>\n",
       "<table border=\"1\" class=\"dataframe\">\n",
       "  <thead>\n",
       "    <tr style=\"text-align: right;\">\n",
       "      <th></th>\n",
       "      <th>rank</th>\n",
       "      <th>Video</th>\n",
       "      <th>Video views</th>\n",
       "      <th>Likes</th>\n",
       "      <th>Dislikes</th>\n",
       "      <th>Category</th>\n",
       "      <th>published</th>\n",
       "    </tr>\n",
       "  </thead>\n",
       "  <tbody>\n",
       "    <tr>\n",
       "      <th>96</th>\n",
       "      <td>97</td>\n",
       "      <td>Unleash Your Urban Style</td>\n",
       "      <td>4,485,529</td>\n",
       "      <td>2</td>\n",
       "      <td>NaN</td>\n",
       "      <td>NaN</td>\n",
       "      <td>2023</td>\n",
       "    </tr>\n",
       "    <tr>\n",
       "      <th>115</th>\n",
       "      <td>116</td>\n",
       "      <td>Aydem Enerji - Hayat için enerji</td>\n",
       "      <td>2,003,221</td>\n",
       "      <td>5</td>\n",
       "      <td>1</td>\n",
       "      <td>NaN</td>\n",
       "      <td>2020</td>\n",
       "    </tr>\n",
       "    <tr>\n",
       "      <th>121</th>\n",
       "      <td>122</td>\n",
       "      <td>Sunway College - Pathway To A Brighter Future</td>\n",
       "      <td>3,829,095</td>\n",
       "      <td>NaN</td>\n",
       "      <td>NaN</td>\n",
       "      <td>NaN</td>\n",
       "      <td>2019</td>\n",
       "    </tr>\n",
       "    <tr>\n",
       "      <th>129</th>\n",
       "      <td>130</td>\n",
       "      <td>Hello Osko by BPAY :: 15</td>\n",
       "      <td>3,763,894</td>\n",
       "      <td>NaN</td>\n",
       "      <td>NaN</td>\n",
       "      <td>NaN</td>\n",
       "      <td>2018</td>\n",
       "    </tr>\n",
       "    <tr>\n",
       "      <th>134</th>\n",
       "      <td>135</td>\n",
       "      <td>„So wie wir Wontis es auch tun.“ - Laura &amp; Jör...</td>\n",
       "      <td>2,596,725</td>\n",
       "      <td>1</td>\n",
       "      <td>NaN</td>\n",
       "      <td>NaN</td>\n",
       "      <td>2023</td>\n",
       "    </tr>\n",
       "    <tr>\n",
       "      <th>...</th>\n",
       "      <td>...</td>\n",
       "      <td>...</td>\n",
       "      <td>...</td>\n",
       "      <td>...</td>\n",
       "      <td>...</td>\n",
       "      <td>...</td>\n",
       "      <td>...</td>\n",
       "    </tr>\n",
       "    <tr>\n",
       "      <th>965</th>\n",
       "      <td>966</td>\n",
       "      <td>2018 - ЛДПР</td>\n",
       "      <td>10,615,380</td>\n",
       "      <td>NaN</td>\n",
       "      <td>NaN</td>\n",
       "      <td>People &amp; Blogs</td>\n",
       "      <td>2017</td>\n",
       "    </tr>\n",
       "    <tr>\n",
       "      <th>966</th>\n",
       "      <td>967</td>\n",
       "      <td>Parfym.se - Ad Q3-4 2019 - 15sec (B)</td>\n",
       "      <td>2,371,993</td>\n",
       "      <td>7</td>\n",
       "      <td>1</td>\n",
       "      <td>NaN</td>\n",
       "      <td>2019</td>\n",
       "    </tr>\n",
       "    <tr>\n",
       "      <th>970</th>\n",
       "      <td>971</td>\n",
       "      <td>Rent A Wheel | Rent A Tire 20th Anniversary Sale</td>\n",
       "      <td>1,908,813</td>\n",
       "      <td>4</td>\n",
       "      <td>8</td>\n",
       "      <td>NaN</td>\n",
       "      <td>2017</td>\n",
       "    </tr>\n",
       "    <tr>\n",
       "      <th>985</th>\n",
       "      <td>986</td>\n",
       "      <td>„Hipis” - nowa książka Paula Coelho już w księ...</td>\n",
       "      <td>979,231</td>\n",
       "      <td>11</td>\n",
       "      <td>NaN</td>\n",
       "      <td>NaN</td>\n",
       "      <td>2018</td>\n",
       "    </tr>\n",
       "    <tr>\n",
       "      <th>997</th>\n",
       "      <td>998</td>\n",
       "      <td>Adi Golan's Group - Teaser</td>\n",
       "      <td>56,578</td>\n",
       "      <td>NaN</td>\n",
       "      <td>NaN</td>\n",
       "      <td>Music</td>\n",
       "      <td>2014</td>\n",
       "    </tr>\n",
       "  </tbody>\n",
       "</table>\n",
       "<p>107 rows × 7 columns</p>\n",
       "</div>"
      ],
      "text/plain": [
       "     rank                                              Video Video views  \\\n",
       "96     97                           Unleash Your Urban Style   4,485,529   \n",
       "115   116                   Aydem Enerji - Hayat için enerji   2,003,221   \n",
       "121   122      Sunway College - Pathway To A Brighter Future   3,829,095   \n",
       "129   130                           Hello Osko by BPAY :: 15   3,763,894   \n",
       "134   135  „So wie wir Wontis es auch tun.“ - Laura & Jör...   2,596,725   \n",
       "..    ...                                                ...         ...   \n",
       "965   966                                        2018 - ЛДПР  10,615,380   \n",
       "966   967               Parfym.se - Ad Q3-4 2019 - 15sec (B)   2,371,993   \n",
       "970   971   Rent A Wheel | Rent A Tire 20th Anniversary Sale   1,908,813   \n",
       "985   986  „Hipis” - nowa książka Paula Coelho już w księ...     979,231   \n",
       "997   998                         Adi Golan's Group - Teaser      56,578   \n",
       "\n",
       "    Likes Dislikes        Category  published  \n",
       "96      2      NaN             NaN       2023  \n",
       "115     5        1             NaN       2020  \n",
       "121   NaN      NaN             NaN       2019  \n",
       "129   NaN      NaN             NaN       2018  \n",
       "134     1      NaN             NaN       2023  \n",
       "..    ...      ...             ...        ...  \n",
       "965   NaN      NaN  People & Blogs       2017  \n",
       "966     7        1             NaN       2019  \n",
       "970     4        8             NaN       2017  \n",
       "985    11      NaN             NaN       2018  \n",
       "997   NaN      NaN           Music       2014  \n",
       "\n",
       "[107 rows x 7 columns]"
      ]
     },
     "execution_count": 98,
     "metadata": {},
     "output_type": "execute_result"
    }
   ],
   "source": [
    "df[df.duplicated(subset = ['Likes','Category'])]"
   ]
  },
  {
   "cell_type": "markdown",
   "id": "df7f8494-3814-403d-9775-364ed74efe75",
   "metadata": {},
   "source": [
    "### EDA-6 # Identify Outlier"
   ]
  },
  {
   "cell_type": "code",
   "execution_count": 99,
   "id": "705ea4ea-c1d7-46a1-a9da-178f543811ab",
   "metadata": {},
   "outputs": [
    {
     "data": {
      "text/plain": [
       "<Axes: xlabel='Likes'>"
      ]
     },
     "execution_count": 99,
     "metadata": {},
     "output_type": "execute_result"
    },
    {
     "data": {
      "image/png": "[encoded data removed]",
      "text/plain": [
       "<Figure size 640x480 with 1 Axes>"
      ]
     },
     "metadata": {},
     "output_type": "display_data"
    }
   ],
   "source": [
    "df10 = df.copy()\n",
    "sns.boxplot(x = 'Likes' , data = df10)"
   ]
  },
  {
   "cell_type": "code",
   "execution_count": 100,
   "id": "b0d6776d-ad83-49d6-93c1-019bfb426d53",
   "metadata": {},
   "outputs": [
    {
     "data": {
      "text/plain": [
       "<Axes: xlabel='Dislikes', ylabel='published'>"
      ]
     },
     "execution_count": 100,
     "metadata": {},
     "output_type": "execute_result"
    },
    {
     "data": {
      "image/png": "[encoded data removed]",
      "text/plain": [
       "<Figure size 640x480 with 1 Axes>"
      ]
     },
     "metadata": {},
     "output_type": "display_data"
    }
   ],
   "source": [
    "df10 = df.copy()\n",
    "sns.boxplot(x = 'Dislikes',y = 'published',  data = df10)"
   ]
  },
  {
   "cell_type": "code",
   "execution_count": 101,
   "id": "f2726394-6db1-485e-bf44-d05a6f86aa05",
   "metadata": {},
   "outputs": [
    {
     "name": "stdout",
     "output_type": "stream",
     "text": [
      "2010.0\n",
      "2021.0\n"
     ]
    }
   ],
   "source": [
    "Q1 = df.published.quantile(.25)\n",
    "Q3 = df.published.quantile(.75)\n",
    "\n",
    "print(Q1)\n",
    "print(Q3)"
   ]
  },
  {
   "cell_type": "code",
   "execution_count": 102,
   "id": "469f9cae-6a61-477c-9152-d8aeedd1e033",
   "metadata": {},
   "outputs": [
    {
     "name": "stdout",
     "output_type": "stream",
     "text": [
      "11.0\n"
     ]
    }
   ],
   "source": [
    "IQR = Q3-Q1\n",
    "print(IQR)"
   ]
  },
  {
   "cell_type": "code",
   "execution_count": 103,
   "id": "7ca351a9-5403-4c45-9d21-b76832fe310c",
   "metadata": {},
   "outputs": [
    {
     "name": "stdout",
     "output_type": "stream",
     "text": [
      "1993.5\n",
      "2037.5\n"
     ]
    }
   ],
   "source": [
    "Lower_bound = Q1 - 1.5 * IQR\n",
    "Upper_bound = Q3 + 1.5 * IQR\n",
    "print(Lower_bound)\n",
    "print(Upper_bound)"
   ]
  },
  {
   "cell_type": "code",
   "execution_count": 104,
   "id": "5c77fef3-ad8a-4332-b095-82a6376ac019",
   "metadata": {},
   "outputs": [
    {
     "name": "stdout",
     "output_type": "stream",
     "text": [
      "Series([], Name: published, dtype: int64)\n"
     ]
    }
   ],
   "source": [
    "outilers = df['published'][(df.published < Lower_bound) | (df.published > Upper_bound)]\n",
    "print(outilers)"
   ]
  },
  {
   "cell_type": "code",
   "execution_count": 105,
   "id": "c118ccad-204a-41f6-9784-001e3b522424",
   "metadata": {},
   "outputs": [
    {
     "data": {
      "text/plain": [
       "0"
      ]
     },
     "execution_count": 105,
     "metadata": {},
     "output_type": "execute_result"
    }
   ],
   "source": [
    "outilers.count()"
   ]
  },
  {
   "cell_type": "markdown",
   "id": "b05b7c67-52e2-438b-9bb2-d7733b8b3080",
   "metadata": {},
   "source": [
    " ### method-2 To find the outliers using Z score\n",
    "z_score = (data - mean) / SD\n"
   ]
  },
  {
   "cell_type": "code",
   "execution_count": 106,
   "id": "98a1adf4-104b-4ca7-ab41-1e98b34c855e",
   "metadata": {},
   "outputs": [],
   "source": [
    "df12 = df.copy()\n",
    "df12['z_score'] = (df['published'] - df.published.mean()) / df.published.std()\n"
   ]
  },
  {
   "cell_type": "code",
   "execution_count": 107,
   "id": "da2a1c9f-382f-427b-9c2a-3eda7e142183",
   "metadata": {},
   "outputs": [
    {
     "data": {
      "text/html": [
       "<div>\n",
       "<style scoped>\n",
       "    .dataframe tbody tr th:only-of-type {\n",
       "        vertical-align: middle;\n",
       "    }\n",
       "\n",
       "    .dataframe tbody tr th {\n",
       "        vertical-align: top;\n",
       "    }\n",
       "\n",
       "    .dataframe thead th {\n",
       "        text-align: right;\n",
       "    }\n",
       "</style>\n",
       "<table border=\"1\" class=\"dataframe\">\n",
       "  <thead>\n",
       "    <tr style=\"text-align: right;\">\n",
       "      <th></th>\n",
       "      <th>rank</th>\n",
       "      <th>Video</th>\n",
       "      <th>Video views</th>\n",
       "      <th>Likes</th>\n",
       "      <th>Dislikes</th>\n",
       "      <th>Category</th>\n",
       "      <th>published</th>\n",
       "      <th>z_score</th>\n",
       "    </tr>\n",
       "  </thead>\n",
       "  <tbody>\n",
       "    <tr>\n",
       "      <th>0</th>\n",
       "      <td>1</td>\n",
       "      <td>20 Tennis shots if they were not filmed, NOBOD...</td>\n",
       "      <td>3,471,237</td>\n",
       "      <td>19,023</td>\n",
       "      <td>859</td>\n",
       "      <td>NaN</td>\n",
       "      <td>2017</td>\n",
       "      <td>0.176222</td>\n",
       "    </tr>\n",
       "    <tr>\n",
       "      <th>1</th>\n",
       "      <td>2</td>\n",
       "      <td>Lil Nas X - Old Town Road (Official Movie) ft....</td>\n",
       "      <td>54,071,677</td>\n",
       "      <td>3,497,955</td>\n",
       "      <td>78,799</td>\n",
       "      <td>Music</td>\n",
       "      <td>2019</td>\n",
       "      <td>0.506536</td>\n",
       "    </tr>\n",
       "    <tr>\n",
       "      <th>2</th>\n",
       "      <td>3</td>\n",
       "      <td>JoJo Siwa - Karma (Official Video)</td>\n",
       "      <td>34,206,747</td>\n",
       "      <td>293,563</td>\n",
       "      <td>NaN</td>\n",
       "      <td>Music</td>\n",
       "      <td>2024</td>\n",
       "      <td>1.332321</td>\n",
       "    </tr>\n",
       "    <tr>\n",
       "      <th>3</th>\n",
       "      <td>4</td>\n",
       "      <td>Wiz Khalifa - See You Again ft. Charlie Puth [...</td>\n",
       "      <td>6,643,904,918</td>\n",
       "      <td>44,861,602</td>\n",
       "      <td>NaN</td>\n",
       "      <td>Music</td>\n",
       "      <td>2015</td>\n",
       "      <td>-0.154091</td>\n",
       "    </tr>\n",
       "    <tr>\n",
       "      <th>4</th>\n",
       "      <td>5</td>\n",
       "      <td>伊賀の天然水強炭酸水「家族で、シュワシェア。」篇　15秒</td>\n",
       "      <td>236,085,971</td>\n",
       "      <td>38</td>\n",
       "      <td>NaN</td>\n",
       "      <td>NaN</td>\n",
       "      <td>2021</td>\n",
       "      <td>0.836850</td>\n",
       "    </tr>\n",
       "  </tbody>\n",
       "</table>\n",
       "</div>"
      ],
      "text/plain": [
       "   rank                                              Video    Video views  \\\n",
       "0     1  20 Tennis shots if they were not filmed, NOBOD...      3,471,237   \n",
       "1     2  Lil Nas X - Old Town Road (Official Movie) ft....     54,071,677   \n",
       "2     3                 JoJo Siwa - Karma (Official Video)     34,206,747   \n",
       "3     4  Wiz Khalifa - See You Again ft. Charlie Puth [...  6,643,904,918   \n",
       "4     5                       伊賀の天然水強炭酸水「家族で、シュワシェア。」篇　15秒    236,085,971   \n",
       "\n",
       "        Likes Dislikes Category  published   z_score  \n",
       "0      19,023      859      NaN       2017  0.176222  \n",
       "1   3,497,955   78,799    Music       2019  0.506536  \n",
       "2     293,563      NaN    Music       2024  1.332321  \n",
       "3  44,861,602      NaN    Music       2015 -0.154091  \n",
       "4          38      NaN      NaN       2021  0.836850  "
      ]
     },
     "execution_count": 107,
     "metadata": {},
     "output_type": "execute_result"
    }
   ],
   "source": [
    "df12.head()"
   ]
  },
  {
   "cell_type": "code",
   "execution_count": 108,
   "id": "905ded05-a43c-480d-8a8c-49396ffa22f7",
   "metadata": {},
   "outputs": [
    {
     "name": "stdout",
     "output_type": "stream",
     "text": [
      "Series([], Name: published, dtype: int64)\n"
     ]
    }
   ],
   "source": [
    "outilers = df12['published'][(df12.z_score < -3 ) | (df12.z_score > 3)]\n",
    "print(outilers)"
   ]
  },
  {
   "cell_type": "markdown",
   "id": "5728f184-2225-4c56-a958-b4bd5aa4e416",
   "metadata": {},
   "source": [
    "### Data cleaning-4 : Trim the outliers"
   ]
  },
  {
   "cell_type": "code",
   "execution_count": 109,
   "id": "b263c4f8-0326-43a6-bf22-5eb546cc401b",
   "metadata": {},
   "outputs": [],
   "source": [
    "df13 = df.copy()\n",
    "df13 = df13[(df.published >=Lower_bound) & (df.published <=Upper_bound)]"
   ]
  },
  {
   "cell_type": "code",
   "execution_count": 110,
   "id": "15e893f5-ed15-448c-8210-02c5ec98e537",
   "metadata": {},
   "outputs": [
    {
     "data": {
      "text/plain": [
       "array([2017, 2019, 2024, 2015, 2021, 2023, 2018, 2007, 2020, 2011, 2012,\n",
       "       2022, 2008, 2025, 2006, 2014, 2009, 2010, 2016, 2013, 2005],\n",
       "      dtype=int64)"
      ]
     },
     "execution_count": 110,
     "metadata": {},
     "output_type": "execute_result"
    }
   ],
   "source": [
    "df13.published.unique()"
   ]
  },
  {
   "cell_type": "code",
   "execution_count": 111,
   "id": "85e5da12-6de2-4865-bd8b-7d60de9276fa",
   "metadata": {},
   "outputs": [
    {
     "data": {
      "text/plain": [
       "array([2017, 2019, 2024, 2015, 2021, 2023, 2018, 2007, 2020, 2011, 2012,\n",
       "       2022, 2008, 2025, 2006, 2014, 2009, 2010, 2016, 2013, 2005],\n",
       "      dtype=int64)"
      ]
     },
     "execution_count": 111,
     "metadata": {},
     "output_type": "execute_result"
    }
   ],
   "source": [
    "df12 = df12[(df12.z_score >= -3) & (df12.z_score <= 3)]\n",
    "df12.published.unique()"
   ]
  },
  {
   "cell_type": "markdown",
   "id": "b319b462-e2cb-4d0b-95ac-8ea732c77ebd",
   "metadata": {},
   "source": [
    "# Clipping method for removing outliers"
   ]
  },
  {
   "cell_type": "code",
   "execution_count": 112,
   "id": "d79b5fd6-8e32-46dc-b162-c82ea3d1be4c",
   "metadata": {},
   "outputs": [
    {
     "data": {
      "text/plain": [
       "array([150], dtype=int64)"
      ]
     },
     "execution_count": 112,
     "metadata": {},
     "output_type": "execute_result"
    }
   ],
   "source": [
    "df12['published'] = df.published.clip(lower = 20 , upper = 150)\n",
    "df12.published.unique()"
   ]
  },
  {
   "cell_type": "code",
   "execution_count": 113,
   "id": "145184c6-cf8a-4aef-b09a-66219e4082ab",
   "metadata": {},
   "outputs": [
    {
     "data": {
      "text/plain": [
       "(1000, 8)"
      ]
     },
     "execution_count": 113,
     "metadata": {},
     "output_type": "execute_result"
    }
   ],
   "source": [
    "df12.shape"
   ]
  },
  {
   "cell_type": "code",
   "execution_count": 114,
   "id": "e32ecd72-0ad3-4c35-b9ac-c0dd55acbdf8",
   "metadata": {},
   "outputs": [
    {
     "data": {
      "text/plain": [
       "(1000,)"
      ]
     },
     "execution_count": 114,
     "metadata": {},
     "output_type": "execute_result"
    }
   ],
   "source": [
    "df12.published.shape"
   ]
  },
  {
   "cell_type": "code",
   "execution_count": null,
   "id": "ae6b8f61-550b-4205-b178-20864f6a6e6d",
   "metadata": {},
   "outputs": [],
   "source": []
  }
 ],
 "metadata": {
  "kernelspec": {
   "display_name": "Python 3 (ipykernel)",
   "language": "python",
   "name": "python3"
  },
  "language_info": {
   "codemirror_mode": {
    "name": "ipython",
    "version": 3
   },
   "file_extension": ".py",
   "mimetype": "text/x-python",
   "name": "python",
   "nbconvert_exporter": "python",
   "pygments_lexer": "ipython3",
   "version": "3.12.7"
  }
 },
 "nbformat": 4,
 "nbformat_minor": 5
}
